{
 "cells": [
  {
   "cell_type": "code",
   "execution_count": 1,
   "id": "5ef0bcec",
   "metadata": {},
   "outputs": [],
   "source": [
    "from transformers import pipeline\n",
    "import spacy\n",
    "import en_core_web_sm\n",
    "import nltk\n",
    "from goose3 import Goose\n",
    "from transformers import AutoTokenizer, AutoModelForSeq2SeqLM\n",
    "from rouge import Rouge"
   ]
  },
  {
   "cell_type": "code",
   "execution_count": 2,
   "id": "8d4f62a9",
   "metadata": {},
   "outputs": [],
   "source": [
    "summarizor = pipeline('summarization', model = 'facebook/bart-large-cnn')"
   ]
  },
  {
   "cell_type": "code",
   "execution_count": 3,
   "id": "8eba76d6",
   "metadata": {},
   "outputs": [],
   "source": [
    "from transformers import AutoTokenizer, AutoModelForSeq2SeqLM\n",
    "\n",
    "tokenizer = AutoTokenizer.from_pretrained(\"facebook/bart-large-cnn\")\n",
    "\n",
    "model = AutoModelForSeq2SeqLM.from_pretrained(\"facebook/bart-large-cnn\")"
   ]
  },
  {
   "cell_type": "code",
   "execution_count": 4,
   "id": "fd992a6d",
   "metadata": {},
   "outputs": [
    {
     "data": {
      "text/plain": [
       "1024"
      ]
     },
     "execution_count": 4,
     "metadata": {},
     "output_type": "execute_result"
    }
   ],
   "source": [
    "tokenizer.model_max_length"
   ]
  },
  {
   "cell_type": "code",
   "execution_count": 5,
   "id": "f61e27bc",
   "metadata": {},
   "outputs": [],
   "source": [
    "file = \"C:\\\\Lachin\\\\NLP Project\\\\Full podcast.txt\"\n",
    "with open(file,'r') as f:\n",
    "    original_text = f.readlines()\n",
    "original_text = ''.join(original_text)"
   ]
  },
  {
   "cell_type": "code",
   "execution_count": 6,
   "id": "3bd19cb4",
   "metadata": {},
   "outputs": [],
   "source": [
    "file1 = \"C:\\\\Lachin\\\\NLP Project\\\\reference_summary.txt\"\n",
    "with open(file1,'r') as f1:\n",
    "    reference_summary = f1.readlines()\n",
    "reference_summary = ''.join(reference_summary)"
   ]
  },
  {
   "cell_type": "code",
   "execution_count": 7,
   "id": "3c3e97bd",
   "metadata": {},
   "outputs": [],
   "source": [
    "def summarizing_text(text, number_of_tokens = tokenizer.model_max_length, max_len=0, min_len=0, human_summary=reference_summary):\n",
    "    sentences = []\n",
    "    total_sentences = []\n",
    "    length = 0\n",
    "    original_sentences = nltk.tokenize.sent_tokenize(text)\n",
    "    for sent in original_sentences:\n",
    "        word_tokens = tokenizer(sent)\n",
    "        length += len(word_tokens['input_ids'])\n",
    "        if (length < number_of_tokens):\n",
    "            sentences.append(sent)\n",
    "        else:\n",
    "            total_sentences.append(sentences)\n",
    "            length = len(word_tokens['input_ids'])\n",
    "            sentences = []\n",
    "            sentences.append(sent)\n",
    "    \n",
    "    \n",
    "    #Summarizing the text now\n",
    "    system_summary = []\n",
    "    for i in range(len(total_sentences)):\n",
    "        if (i==0):\n",
    "            print(len(total_sentences))\n",
    "        print(i)\n",
    "        text1 = ' '.join(total_sentences[i])\n",
    "        if ((max_len==0) and (min_len==0)):\n",
    "            z = summarizor(text1, do_sample=False)\n",
    "            system_summary.append(z[0]['summary_text'])\n",
    "        elif((max_len >0) and (min_len > 0)):\n",
    "            z = summarizor(text1, max_length=max_len, min_length =min_len, do_sample=False)\n",
    "            system_summary.append(z[0]['summary_text'])\n",
    "        else:\n",
    "            print('Please check \"max_len\" and \"min_len\" parameters')\n",
    "    final_system_summary = \" \".join(system_summary)\n",
    "    final_summary_tokens = tokenizer(final_system_summary)\n",
    "    print('Number of tokens in system summary {}'.format(len(final_summary_tokens['input_ids'])))\n",
    "    human_summary_tokens = tokenizer(human_summary)\n",
    "    print('Number of tokens in human summary {}'.format(len(human_summary_tokens['input_ids'])))\n",
    "    \n",
    "    #Accuracy checking\n",
    "    r = Rouge()\n",
    "    results = r.get_scores(final_system_summary,human_summary)\n",
    "    print(results)\n",
    "    \n",
    "    \n",
    "    print(final_system_summary)"
   ]
  },
  {
   "cell_type": "code",
   "execution_count": 8,
   "id": "c64f6955",
   "metadata": {},
   "outputs": [
    {
     "name": "stdout",
     "output_type": "stream",
     "text": [
      "6\n",
      "0\n",
      "1\n",
      "2\n",
      "3\n",
      "4\n",
      "5\n"
     ]
    },
    {
     "name": "stderr",
     "output_type": "stream",
     "text": [
      "Token indices sequence length is longer than the specified maximum sequence length for this model (1879 > 1024). Running this sequence through the model will result in indexing errors\n"
     ]
    },
    {
     "name": "stdout",
     "output_type": "stream",
     "text": [
      "Number of tokens in system summary 1879\n",
      "Number of tokens in human summary 521\n",
      "[{'rouge-1': {'r': 0.6832579185520362, 'p': 0.2926356589147287, 'f': 0.40976933094355533}, 'rouge-2': {'r': 0.412987012987013, 'p': 0.1260904044409199, 'f': 0.19319562217559713}, 'rouge-l': {'r': 0.6380090497737556, 'p': 0.27325581395348836, 'f': 0.38263228888114015}}]\n",
      "Harj Taggar: Why should you have a co-founder when you're starting a company? He says there are three main reasons: productivity, moral support and pattern matching. He says Apple, Facebook, Google, Microsoft all had co-founders when they started. Harj: If you're keen to get started in a company now, and you don't have a great co- founder that immediately available, or someone that you can bring on immediately, go ahead and get started and get a company started. But if you can't wait, or you're not sure if you want to wait, then you should get started now and get your company started with a good co-Founder, says Harj, who is also a partner at Y Combinator, and a partner in the startup accelerator, YC's incubator program, called YC@YC. YC @YC is a program of YC, a venture capital firm based in San Francisco, that invests in early-stage startups and is funded by angel investors and venture capitalists. For more information, go to www.yc.org/yc-investor, or go to the YC/investor/co-founding program, which is open to all investors and accelerators, in the U.S. and around the world. For confidential support, call the National Suicide Prevention Lifeline at 1-800-273-8255 or visit http://www.suicidepreventionlifeline.org/. Y Combinator has funded single founders, and we have done so successfully. But there are some exceptions to this rule and they tend to follow a particular pattern. If you're really keen to get a startup right now, but you don't have a co-founder, ask yourself like, do you have absolute high conviction in this idea, you know sure that this is the idea that we want to work on? And can you really make progress without having a Co-founder? And if those things are true, sure. Go ahead and give it a shot. But if not, I'd really suggest you wait until you do have aCo-founder to start a company. And the single most important thing to know about someone before you start a. company with them is how well are they going to help you handle stress. And if you're determined and motivated, enjoy working together, you'll keep working on this startup for a long. period of time. And that's usually what it takes to build a really successful company. So the best people to start companies with are always got some personal experiences where they're going to respond to those tough situations. And are they someone that's going to stick around when things are tough? So you really don't want to start. a company with someone that you don’t know particularly well. Because even if you've spent time with them in social events, or you hung out together a little bit, you. don't really have insight into their insight into tough times. The second thing you want to look for is understanding the goals and values someone has for starting a company or wanting to do a startup. It's not a perfect predictor, because people's goals and ambitions for a startup change over time. But at least having the conversation gives you a better chance of finding a co-founder who you're aligned with around a high level important stuff. The third thing you should look for in co-founders is that they have the right sort of skills to help you grow the company, and usually that means someone who's great at sales, talking to users, getting customers, building software, and writing code. And so if sort of the person best fits that description doesn't necessarily have the perfect set of complementary skills, tools, I think that's fine, you should still bring them on as aCo-founder. All right. So more important than anything is just working with someone that you like working with and you trust. And that usually means there's someone, a close friend, or someone thatyou've worked with, under stressful conditions. So don't go too much into the details of how well do their skills map onto this specific idea you're working on right now. So we see this sometimes when someone's considering bringing on a technical co- founder on an iPhone app. And then you can start hiring people as you need, and make enough progress in the company to get enough investment, you can hire people to kind of fill in the skills gaps. Don't rule someone out who's potentially a great co-founder because they don't have this checklist of specific skills you're looking for. But do make sure you count them in if it's someone that you trust, you like working with, you've got a good sense of how they're going to handle the stress and pressure of the startup journey. Look for people to work on projects with because that's a great way for you to get a sense of what kind of person do you enjoy working with and what specific type of personality do you work well with. Projects that you work on in your spare time often tend to be some of the greatest sources for actually finding great startup ideas and building huge companies. Facebook's an obvious example, something that started out as a project while Mark Zuckerberg was an undergrad at Harvard and now it's turning into one of the biggest companies in the world. But that's not why I'm suggesting you do this. I'm suggest you can look for people that you think would be cool to work with. And this project doesn't have to be a takeover the world idea of a company, just somebody you find interesting. Like maybe you're into games, and you want to build a cool game together. And the other thing that's great about projects is you can work on different projects with different people and you can start developing a taste for who do you like? Well, what kinds of personalities? Like what kinds the skills are you actually good at as opposed to what you might think you're good at? And so what kind the complementary skills might you look for in a co- founder. If you know you want to start a company, how do you start finding co-founders? Make a list of the people that you know, you're closest to that you think would be great co- founders. Go out and try and meet people that just have similar interests to you. If you're an engineer, attend, like developer meetups or work on open source projects, or go to hackathons. And there's lots of online groups and communities that you can join to find people that might make you a good co-founder. But even if you have a high chance of finding someone who could be a good fit, you have to test out and know for sure that you both want to do it together before making the final commitment to start the company with you. The final bit of advice, I'd say, for where to look is to attend or find people who are interested in the kinds of things you're interested in, or is a pool of interests where you think you'll find a startup idea. And if you're not technical, if you's interested in those things, you should totally attend those kinds of events too. And you're likely to find some meets. It's kind of a little bit just like how to have a social life. But this is essentially what finding co -founders reduces to. But it's not the right optimization for starting a company. But if you do, you'll have a better chance of getting the right people on board. If you both graduated college and you want to start a company, I'd say treat this like your full time job. Say that, \"Hey, we're going to set aside a month or three months. And let's just pick idea we're excited about and get as much progress made as we can on building the first version of it, and going out and signing customers.\" Even if you can't do that full time because you have other commitments, but then do it on evenings and weekends, right. But you'll have to sacrifice some amount of time doing other things in order to actually spend time working together. But the more times, the more hours you can accumulate of working together on the idea, the better sense you will have for sure if you're ready to start company or not. The second thing I think you really want to decide is who's the CEO of the company. Right. You should make them a 50/50 partner so you can keep them as much out of them as possible. But I think the underlying thing that you're solving for here is making sure that both of you are happy with what the equity arrangement is, and will be motivated to keep working on the company for a long period of time. That's what I would really encourage you to do is not optimize for the short term. Startups are a really long-term game and you win by making the best decision long term. right. So you have a great co-founder, and even though you made a little bit of progress on company, if you know that they're fully committed to the success of theCompany, you should do that unless you won't be all yourself.\n",
      "Wall time: 6min 24s\n"
     ]
    }
   ],
   "source": [
    "%%time\n",
    "summarizing_text(original_text,number_of_tokens=1024, max_len=500, min_len=300)"
   ]
  },
  {
   "cell_type": "code",
   "execution_count": 9,
   "id": "dd79839b",
   "metadata": {},
   "outputs": [
    {
     "name": "stdout",
     "output_type": "stream",
     "text": [
      "6\n",
      "0\n",
      "1\n",
      "2\n",
      "3\n",
      "4\n",
      "5\n",
      "Number of tokens in system summary 429\n",
      "Number of tokens in human summary 521\n",
      "[{'rouge-1': {'r': 0.416289592760181, 'p': 0.47668393782383417, 'f': 0.4444444394673155}, 'rouge-2': {'r': 0.15844155844155844, 'p': 0.1942675159235669, 'f': 0.17453504512311696}, 'rouge-l': {'r': 0.38009049773755654, 'p': 0.43523316062176165, 'f': 0.40579709647214646}}]\n",
      "Harj Taggar: Why should you have a co-founder when you're starting a company? He says there are three main reasons: productivity, moral support and pattern matching. He says Apple, Facebook, Google, Microsoft all had co-founders when they started. Harj: If you're keen to get started in a company now, and you don't have a great co- founder, go ahead and get started. Y Combinator has funded single founders, and we have done so successfully. But there are some exceptions to this rule and they tend to follow a particular pattern. The single founders have such conviction in the idea that they don't need a co-founder to convince them that this is a good idea to get started on. The second thing you want to look for is understanding the goals and values someone has for starting a company or wanting to do a startup. It's not a perfect predictor, because people's goals and ambitions for a startup change over time. But at least having the conversation gives you a better chance of finding a co-founder who you're aligned with. Don't rule someone out who's potentially a great co-founder because they don't have specific skills you're looking for. But do make sure you count them in if it's someone that you trust, you like working with, you've got a good sense of how they're going to handle the stress and pressure of the startup journey. If you know you want to start a company, how do you start finding co-founders? Make a list of the people that you know, you're closest to that you think would be great co- founders. If they say no, ask them who'd they try to recruit. Go out and meet people that have similar interests. If you both graduated college and you want to start a company, I'd say treat this like your full time job. Say that, \"Hey, we're going to set aside a month or three months. And let's just pick idea we're excited about and get as much progress made as we can on building the first version of it\"\n",
      "Wall time: 1min 39s\n"
     ]
    }
   ],
   "source": [
    "%%time\n",
    "summarizing_text(original_text)"
   ]
  },
  {
   "cell_type": "code",
   "execution_count": 10,
   "id": "d96ed9b9",
   "metadata": {},
   "outputs": [
    {
     "name": "stdout",
     "output_type": "stream",
     "text": [
      "6\n",
      "0\n",
      "1\n",
      "2\n",
      "3\n",
      "4\n",
      "5\n",
      "Number of tokens in system summary 644\n",
      "Number of tokens in human summary 521\n",
      "[{'rouge-1': {'r': 0.49321266968325794, 'p': 0.42412451361867703, 'f': 0.45606694063505543}, 'rouge-2': {'r': 0.2077922077922078, 'p': 0.17167381974248927, 'f': 0.18801409610287767}, 'rouge-l': {'r': 0.4343891402714932, 'p': 0.3735408560311284, 'f': 0.4016736351957249}}]\n",
      "Harj Taggar: Why should you have a co-founder when you're starting a company? He says there are three main reasons: productivity, moral support and pattern matching. He says Apple, Facebook, Google, Microsoft all had co-founders when they started. Harj: If you're keen to get started in a company now, and you don't have a great co- founder that immediately available, or someone that you can bring on, go ahead and get started. Y Combinator has funded single founders, and we have done so successfully. But there are some exceptions to this rule and they tend to follow a particular pattern. If you're really keen to get a startup right now, but you don't have a co-founder, ask yourself like, do you have absolute high conviction in this idea, you know sure that this is the idea that we want to work on? And can you really make progress without having aCo-founder? And if those things are true, sure. Go ahead and give it a shot. But if not, I'd really suggest you wait until you do have a Co-founder to start a company. The second thing you want to look for is understanding the goals and values someone has for starting a company or wanting to do a startup. It's not a perfect predictor, because people's goals and ambitions for a startup change over time. But at least having the conversation gives you a better chance of finding a co-founder who you're aligned with around a high level important stuff. The third thing you should look for in co-founders is that they have the right sort of skills to help you grow the company. Don't rule someone out who's potentially a great co-founder because they don't have this checklist of specific skills you're looking for. But do make sure you count them in if it's someone that you trust, you like working with, you've got a good sense of how they're going to handle the stress and pressure of the startup journey. Look for people to work on projects with because that's a great way for you to get a sense of what kind of person do you enjoy working with. If you know you want to start a company, how do you start finding co-founders? Make a list of the people that you know, you're closest to that you think would be great co- founders. Go out and try and meet people that just have similar interests to you. If you're an engineer, attend, like developer meetups or work on open source projects, or go to hackathons. And there's lots of online groups and communities that you can join. If you both graduated college and you want to start a company, I'd say treat this like your full time job. Say that, \"Hey, we're going to set aside a month or three months. And let's just pick idea we're excited about and get as much progress made as we can on building the first version of it, and going out and signing customers.\" Even if you can't do that full time because you have other commitments, but then do it on evenings and weekends, right.\n",
      "Wall time: 2min 17s\n"
     ]
    }
   ],
   "source": [
    "%%time\n",
    "summarizing_text(original_text,number_of_tokens=1024, max_len=200, min_len=100)"
   ]
  },
  {
   "cell_type": "code",
   "execution_count": 11,
   "id": "67190c20",
   "metadata": {},
   "outputs": [
    {
     "name": "stdout",
     "output_type": "stream",
     "text": [
      "14\n",
      "0\n",
      "1\n",
      "2\n",
      "3\n",
      "4\n",
      "5\n",
      "6\n",
      "7\n",
      "8\n",
      "9\n",
      "10\n",
      "11\n",
      "12\n",
      "13\n",
      "Number of tokens in system summary 1005\n",
      "Number of tokens in human summary 521\n",
      "[{'rouge-1': {'r': 0.5520361990950227, 'p': 0.33516483516483514, 'f': 0.4170940123927826}, 'rouge-2': {'r': 0.24935064935064935, 'p': 0.13351877607788595, 'f': 0.17391303893590185}, 'rouge-l': {'r': 0.497737556561086, 'p': 0.3021978021978022, 'f': 0.3760683713671415}}]\n",
      "Harj Taggar: Why should you have a co-founder at all? He says there are three main reasons: productivity, moral support and brainstorming. He says the best co-founding relationships help balance out the emotional rollercoaster that is a startup. Taggar is a partner at Y Combinator. You don't get that same emotional support that you do from a co-founder. Anyone who's working for you, you're the boss, and they're not as invested in the success of the startup as you are. And you can't really be as open or honest with them about the company as you can be with a peer. The final reason I'd say to have a Co-founder is pattern matching to success. Y Combinator has funded single founders, and we have done so successfully. The default answer is that you should wait because of all the benefits that you get from having a co-founder. But I've noticed that there are some exceptions to this rule and they tend to follow a particular pattern. Drew Maguire applied to Y Combinator for a startup, but didn't have a co-founder. Paul Graham, the founder of the accelerator, told him to come back when he had one. He went away, continued building the Dropbox prototype, while also looking for co-founders. He found Arasha, who would be later the Dropbox CTO. And now Dropbox is obviously a tremendously successful company. The best people to start companies with are always people that you've got some sort of personal experiences. You don't really have insight into how they're going to respond to pressure and stress. The second thing you really want to look for is understanding the goals and values someone has for starting a company. The two motivations for wanting to start a company aren't compatible with each other. Make sure that you have this conversation. It's not a perfect predictor, because people's goals and ambitions for a startup change over time. More important than anything is just working with someone that you like working with and you trust. Don't go too much into the details of how well do their skills map onto this specific idea you're working on right now. Don't rule someone out who's potentially a great co-founder because they don't have this checklist of specific skills you're looking for. But make sure you count them in if it's someone that you trust, you like working with. The best time to find a co-founder are when you're not actually looking for a company. So ideally, your friends and colleagues. Projects that you work on in your spare time often tend to be some of the greatest sources for actually finding great startup ideas. Facebook's an obvious example, something that started out as a project while Mark Zuckerberg was an undergrad at Harvard. If you're ready to start a company, how do you start finding co-founders? Well, again, you start with people that you know. Ask them if they're up for working on things in the evenings or weekends. That's the kind of personality...the kind of person who is interested in working on evening and weekend projects. Make a list of the people that you know, you're closest to that you think would be great co-founders. Ask every single person there to go grab a coffee and talk to them. If they say no, that's totally fine. Say you understand. But like, who would they start a company with and make it very specific. Make a real effort to go out and meet people that have similar interests. Do things where others, engineers and builders are hanging out. If you're not technical, if you're interested in those things, you should totally attend those kinds of events too. But maybe also just attend or find people who are interested in the kinds of things you're interest in. If you both graduated college and you want to start a company, I'd say treat this like your full time job. Say that, \"Hey, we're going to set aside a month or three months. And let's just pick idea we're excited about and get as much progress made as we can\" Startups are a really long-term game and you win by making the best decision long term. So if you have a great potential co-founder, and even though you made a little bit of progress on the company yourself, if you know that they won't be all in and fully committed to the success of the company unless they're a 50/50 partner, you should do that. The second thing you really want to decide is who's the CEO. The only impact the CEO title has is externally, and I would say specifically for investors. Investors care about seeing that there is sort of a clear leader, and a clear final decision maker or a tiebreaker. So when you're pitching investors, it's usually better for whoever sort of does most of the talking, that that person is the CEO.\n",
      "Wall time: 2min 55s\n"
     ]
    }
   ],
   "source": [
    "%%time\n",
    "summarizing_text(original_text, number_of_tokens=500)"
   ]
  },
  {
   "cell_type": "code",
   "execution_count": null,
   "id": "534c4986",
   "metadata": {},
   "outputs": [],
   "source": [
    "%%time\n",
    "summarizing_text(original_text, number_of_tokens=500, max_len=80, min_len=40)"
   ]
  }
 ],
 "metadata": {
  "kernelspec": {
   "display_name": "Python 3",
   "language": "python",
   "name": "python3"
  },
  "language_info": {
   "codemirror_mode": {
    "name": "ipython",
    "version": 3
   },
   "file_extension": ".py",
   "mimetype": "text/x-python",
   "name": "python",
   "nbconvert_exporter": "python",
   "pygments_lexer": "ipython3",
   "version": "3.8.8"
  }
 },
 "nbformat": 4,
 "nbformat_minor": 5
}
