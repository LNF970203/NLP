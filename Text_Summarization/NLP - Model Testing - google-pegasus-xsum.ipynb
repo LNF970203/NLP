{
 "cells": [
  {
   "cell_type": "code",
   "execution_count": 1,
   "id": "ebb72cc8",
   "metadata": {},
   "outputs": [],
   "source": [
    "from transformers import pipeline\n",
    "import spacy\n",
    "import en_core_web_sm\n",
    "import nltk\n",
    "from goose3 import Goose\n",
    "from transformers import AutoTokenizer, AutoModelForSeq2SeqLM\n",
    "from rouge import Rouge"
   ]
  },
  {
   "cell_type": "code",
   "execution_count": 2,
   "id": "98eedcc3",
   "metadata": {},
   "outputs": [],
   "source": [
    "summarizor = pipeline('summarization', model = 'google/pegasus-xsum')"
   ]
  },
  {
   "cell_type": "code",
   "execution_count": 4,
   "id": "5705cbca",
   "metadata": {},
   "outputs": [],
   "source": [
    "from transformers import AutoTokenizer, AutoModelForSeq2SeqLM\n",
    "\n",
    "tokenizer = AutoTokenizer.from_pretrained(\"google/pegasus-xsum\")\n",
    "\n",
    "model = AutoModelForSeq2SeqLM.from_pretrained(\"google/pegasus-xsum\")"
   ]
  },
  {
   "cell_type": "code",
   "execution_count": 5,
   "id": "6856c60e",
   "metadata": {},
   "outputs": [
    {
     "data": {
      "text/plain": [
       "512"
      ]
     },
     "execution_count": 5,
     "metadata": {},
     "output_type": "execute_result"
    }
   ],
   "source": [
    "tokenizer.model_max_length"
   ]
  },
  {
   "cell_type": "code",
   "execution_count": 6,
   "id": "551c3483",
   "metadata": {},
   "outputs": [],
   "source": [
    "file = \"C:\\\\Lachin\\\\NLP Project\\\\Full podcast.txt\"\n",
    "with open(file,'r') as f:\n",
    "    original_text = f.readlines()\n",
    "original_text = ''.join(original_text)"
   ]
  },
  {
   "cell_type": "code",
   "execution_count": 7,
   "id": "9d2deb06",
   "metadata": {},
   "outputs": [],
   "source": [
    "file1 = \"C:\\\\Lachin\\\\NLP Project\\\\reference_summary.txt\"\n",
    "with open(file1,'r') as f1:\n",
    "    reference_summary = f1.readlines()\n",
    "reference_summary = ''.join(reference_summary)"
   ]
  },
  {
   "cell_type": "code",
   "execution_count": 10,
   "id": "0b01fd44",
   "metadata": {},
   "outputs": [],
   "source": [
    "def summarizing_text(text, number_of_tokens = tokenizer.model_max_length, max_len=0, min_len=0, human_summary=reference_summary):\n",
    "    sentences = []\n",
    "    total_sentences = []\n",
    "    length = 0\n",
    "    original_sentences = nltk.tokenize.sent_tokenize(text)\n",
    "    for sent in original_sentences:\n",
    "        word_tokens = tokenizer(sent)\n",
    "        length += len(word_tokens['input_ids'])\n",
    "        if (length < number_of_tokens):\n",
    "            sentences.append(sent)\n",
    "        else:\n",
    "            total_sentences.append(sentences)\n",
    "            length = len(word_tokens['input_ids'])\n",
    "            sentences = []\n",
    "            sentences.append(sent)\n",
    "    \n",
    "    \n",
    "    #Summarizing the text now\n",
    "    system_summary = []\n",
    "    for i in range(len(total_sentences)):\n",
    "        if (i==0):\n",
    "            print(len(total_sentences))\n",
    "        print(i)\n",
    "        text1 = ' '.join(total_sentences[i])\n",
    "        if ((max_len==0) and (min_len==0)):\n",
    "            z = summarizor(text1, do_sample=False)\n",
    "            system_summary.append(z[0]['summary_text'])\n",
    "        elif((max_len >0) and (min_len > 0)):\n",
    "            z = summarizor(text1, max_length=max_len, min_length =min_len, do_sample=False)\n",
    "            system_summary.append(z[0]['summary_text'])\n",
    "        else:\n",
    "            print('Please check \"max_len\" and \"min_len\" parameters')\n",
    "    final_system_summary = \" \".join(system_summary)\n",
    "    final_summary_tokens = tokenizer(final_system_summary)\n",
    "    print('Number of tokens in system summary {}'.format(len(final_summary_tokens['input_ids'])))\n",
    "    human_summary_tokens = tokenizer(human_summary)\n",
    "    print('Number of tokens in human summary {}'.format(len(human_summary_tokens['input_ids'])))\n",
    "    \n",
    "    #Accuracy checking\n",
    "    r = Rouge()\n",
    "    results = r.get_scores(final_system_summary,human_summary)\n",
    "    print(results)\n",
    "    \n",
    "    \n",
    "    print(final_system_summary)\n",
    "        \n",
    "        "
   ]
  },
  {
   "cell_type": "code",
   "execution_count": 12,
   "id": "0176204d",
   "metadata": {},
   "outputs": [
    {
     "name": "stdout",
     "output_type": "stream",
     "text": [
      "14\n",
      "0\n",
      "1\n",
      "2\n",
      "3\n",
      "4\n",
      "5\n",
      "6\n",
      "7\n",
      "8\n",
      "9\n",
      "10\n",
      "11\n",
      "12\n",
      "13\n",
      "Number of tokens in system summary 392\n",
      "Number of tokens in human summary 503\n",
      "[{'rouge-1': {'r': 0.24434389140271492, 'p': 0.421875, 'f': 0.3094555827475965}, 'rouge-2': {'r': 0.08831168831168831, 'p': 0.1559633027522936, 'f': 0.11276948128731706}, 'rouge-l': {'r': 0.23076923076923078, 'p': 0.3984375, 'f': 0.29226360567023263}}]\n",
      "In our series of letters from entrepreneurs, Harj Taggar looks at why you should have a co-founder when you're starting a company. The first reason I'd say to have a co-founder when you're starting a company is that you're more likely to have a co-founder who's invested in the success of the company. In our interview with Paul Graham, the founder of Y Combinator, he explains why he doesn't fund companies founded by two people: Here's what Dropbox co-founder Drew Houston had to say about bringing on a co-founder: The first thing you want to look for in a co-founder is whether or not they've been through a tough time. If you want to start a company, and you want to find a co-founder who you're aligned with, I think it's really important to have that conversation. In our series of videos on how to start a business, we're looking at how to find a co-founder. In our series of videos on how to start a company, we're going to look at one of the best ways to start a company, and that's by looking for people to work on projects with. If you're in college or school and you want to be a co-founder of a company, the best advice I can give you is to make friends with people who you think might be good co-founders. In our series of interviews with the world's top technology and engineering talent, we're looking at how to find a co-founder. How do you find a potential co-founder? Here's how to start a company with a co-founder: The first thing I think you really want to decide is who's the co-founder. In our series on co-founders, we've been talking about the importance of having a co-founder.\n",
      "Wall time: 3min 20s\n"
     ]
    }
   ],
   "source": [
    "%%time\n",
    "summarizing_text(original_text)"
   ]
  },
  {
   "cell_type": "code",
   "execution_count": 13,
   "id": "e10f906d",
   "metadata": {},
   "outputs": [
    {
     "name": "stdout",
     "output_type": "stream",
     "text": [
      "14\n",
      "0\n",
      "1\n",
      "2\n",
      "3\n",
      "4\n",
      "5\n",
      "6\n",
      "7\n",
      "8\n",
      "9\n",
      "10\n",
      "11\n",
      "12\n",
      "13\n",
      "Number of tokens in system summary 435\n",
      "Number of tokens in human summary 503\n",
      "[{'rouge-1': {'r': 0.248868778280543, 'p': 0.4198473282442748, 'f': 0.31249999532686606}, 'rouge-2': {'r': 0.07792207792207792, 'p': 0.13333333333333333, 'f': 0.0983606510816987}, 'rouge-l': {'r': 0.23076923076923078, 'p': 0.3893129770992366, 'f': 0.28977272259959336}}]\n",
      "In our series of letters from entrepreneurs, Harj Taggar looks at why you should have a co-founder when you're starting a company. The first reason I'd say to have a co-founder when you're starting a company is that you're more likely to have a co-founder who's invested in the success of the company. In our interview with Paul Graham, the founder of Y Combinator, he explains why he doesn't fund companies founded by two people: Here's what Dropbox co-founder Drew Houston had to say about bringing on a co-founder to start a company: The first thing you want to look for in a co-founder is whether or not they've been through a tough time. If you want to start a company, and you want to find a co-founder who you're aligned with, I think it's really important to have that conversation. In our series of videos on how to start a business, we're looking at how to find a co-founder. In our series of videos on how to start a company, we're going to look at one of the best ways to start a company, and that's by looking for people to work on projects with. If you're in college or school and you want to be a co-founder of a company, the best advice I can give you is to make friends with people who you think might be good co-founders. In our series of interviews with the world's top technology and engineering talent, we're looking at how to find a co-founder. If you want to start a company, one way to do it is to find a co-founder who shares your interests. If you want to start a company, the first thing you want to do is say, \"Okay, we're going to start a company. The first thing I think you really want to decide is who's going to be the co-founder of the company. In our series of videos on starting a company, we've been talking about the importance of having a co-founder.\n",
      "Wall time: 3min 19s\n"
     ]
    }
   ],
   "source": [
    "%%time\n",
    "summarizing_text(original_text,number_of_tokens=512, max_len=50,min_len=25)"
   ]
  },
  {
   "cell_type": "code",
   "execution_count": null,
   "id": "92c607f3",
   "metadata": {},
   "outputs": [],
   "source": []
  }
 ],
 "metadata": {
  "kernelspec": {
   "display_name": "Python 3",
   "language": "python",
   "name": "python3"
  },
  "language_info": {
   "codemirror_mode": {
    "name": "ipython",
    "version": 3
   },
   "file_extension": ".py",
   "mimetype": "text/x-python",
   "name": "python",
   "nbconvert_exporter": "python",
   "pygments_lexer": "ipython3",
   "version": "3.8.8"
  }
 },
 "nbformat": 4,
 "nbformat_minor": 5
}
