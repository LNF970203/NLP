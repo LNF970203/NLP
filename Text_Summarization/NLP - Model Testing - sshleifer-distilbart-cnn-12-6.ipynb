{
 "cells": [
  {
   "cell_type": "code",
   "execution_count": 20,
   "id": "a1b109e0",
   "metadata": {},
   "outputs": [],
   "source": [
    "from transformers import pipeline\n",
    "import spacy\n",
    "import en_core_web_sm\n",
    "import nltk\n",
    "from goose3 import Goose\n",
    "from transformers import AutoTokenizer, AutoModelForSeq2SeqLM\n",
    "from rouge import Rouge"
   ]
  },
  {
   "cell_type": "code",
   "execution_count": 3,
   "id": "df798847",
   "metadata": {},
   "outputs": [
    {
     "data": {
      "application/vnd.jupyter.widget-view+json": {
       "model_id": "19cd9312ed8b4483b6a821bbd313670f",
       "version_major": 2,
       "version_minor": 0
      },
      "text/plain": [
       "Downloading:   0%|          | 0.00/1.76k [00:00<?, ?B/s]"
      ]
     },
     "metadata": {},
     "output_type": "display_data"
    },
    {
     "data": {
      "application/vnd.jupyter.widget-view+json": {
       "model_id": "3436f35a5d4d40b1811a568bf42ca911",
       "version_major": 2,
       "version_minor": 0
      },
      "text/plain": [
       "Downloading:   0%|          | 0.00/1.14G [00:00<?, ?B/s]"
      ]
     },
     "metadata": {},
     "output_type": "display_data"
    },
    {
     "data": {
      "application/vnd.jupyter.widget-view+json": {
       "model_id": "8abbe1d4d4a14b8f8479ffa3f205a9bd",
       "version_major": 2,
       "version_minor": 0
      },
      "text/plain": [
       "Downloading:   0%|          | 0.00/26.0 [00:00<?, ?B/s]"
      ]
     },
     "metadata": {},
     "output_type": "display_data"
    },
    {
     "data": {
      "application/vnd.jupyter.widget-view+json": {
       "model_id": "086aec079ffa4b7a81edac4f2b00299e",
       "version_major": 2,
       "version_minor": 0
      },
      "text/plain": [
       "Downloading:   0%|          | 0.00/878k [00:00<?, ?B/s]"
      ]
     },
     "metadata": {},
     "output_type": "display_data"
    },
    {
     "data": {
      "application/vnd.jupyter.widget-view+json": {
       "model_id": "d4dc40a51f7c452884623967bed4dacf",
       "version_major": 2,
       "version_minor": 0
      },
      "text/plain": [
       "Downloading:   0%|          | 0.00/446k [00:00<?, ?B/s]"
      ]
     },
     "metadata": {},
     "output_type": "display_data"
    }
   ],
   "source": [
    "summarizor = pipeline('summarization', model = 'sshleifer/distilbart-cnn-12-6')"
   ]
  },
  {
   "cell_type": "code",
   "execution_count": 5,
   "id": "86b89799",
   "metadata": {},
   "outputs": [],
   "source": [
    "from transformers import AutoTokenizer, AutoModelForSeq2SeqLM\n",
    "\n",
    "tokenizer = AutoTokenizer.from_pretrained(\"sshleifer/distilbart-cnn-12-6\")\n",
    "\n",
    "model = AutoModelForSeq2SeqLM.from_pretrained(\"sshleifer/distilbart-cnn-12-6\")"
   ]
  },
  {
   "cell_type": "code",
   "execution_count": 7,
   "id": "341a7cf1",
   "metadata": {},
   "outputs": [
    {
     "data": {
      "text/plain": [
       "1024"
      ]
     },
     "execution_count": 7,
     "metadata": {},
     "output_type": "execute_result"
    }
   ],
   "source": [
    "tokenizer.model_max_length"
   ]
  },
  {
   "cell_type": "code",
   "execution_count": 11,
   "id": "eb8791a5",
   "metadata": {},
   "outputs": [],
   "source": [
    "file = \"C:\\\\Lachin\\\\NLP Project\\\\Full podcast.txt\"\n",
    "with open(file,'r') as f:\n",
    "    original_text = f.readlines()\n",
    "original_text = ''.join(original_text)"
   ]
  },
  {
   "cell_type": "code",
   "execution_count": 12,
   "id": "a9fe4194",
   "metadata": {},
   "outputs": [
    {
     "name": "stdout",
     "output_type": "stream",
     "text": [
      "How to Find the Right Co-Founder\n",
      "\n",
      "Hi, I'm Harj Taggar, and I'm partner at Y Combinator. And today I'm going to be talking about what I think is arguably the most important part of starting a company, which is finding the right co-founder.\n",
      "So let's start by talking about why should you have a co-founder at all. Well, I think there's three main reasons you really want a co-founder when you're starting a company. The first is productivity, you can get a lot more work done if you have someone to divide the work up with. And you can get much better work done if you have a co-founder who maybe has complementary skills, so they can do things that you can't. And there's someone you enjoy discussing ideas with. So you can brainstorm and come up with better ideas than you could alone, or have someone to talk you out of potentially bad ideas. So you get a lot of uplift in just the amount and quality of work you can do with a co-founder.\n",
      "The second reason is moral support. Startups are an incredibly intense and taxing journey. And it's great to have someone you can lean on for support during the tough times. And what I've noticed about the best co-founder relationships is they have this dynamic where both co-founders kind of balance each other out. So if one founder is having a bad day, they're feeling a little down, despondent, and they've become a little pessimistic and feel like the startup is about to die, the other co-founder can just help bring them up a little bit, and keep them going and keep them motivated. And vice versa. Sometimes you get too carried away, you sign a customer and you think you're guaranteed the IPO. And you can use someone to just ground you and bring you back to reality a little bit. And so that's where I kind of find the best co-founding relationships can help kind of even out some of the highs and lows of the emotional rollercoaster that is a startup.\n",
      "And while you can get sort of productivity increased by hiring people or bringing your own contractors, you don't get that same emotional support that you do from a co-founder. Because ultimately, anyone who's working for you, you're the boss, and they're not as invested in the success of the startup as you are. And you can't really be as open or honest with them about the company as you can be with a peer. And that's what you get from a co-founder.\n",
      "The final reason I'd say to have a co-founder is pattern matching to success. If you look at a list of the most successful startups in history, think of Apple, Facebook, Google, Microsoft, they all had co-founders when they started. And now I think sometimes people forget this point. Because when you think of these great iconic companies, you associate them with a single person, usually the CEO, who's over time risen to become prominent, famous and a bit of celebrities. You know, when you think of Apple, you think of Steve Jobs, when you think of Microsoft, Bill Gates, and when you think of Facebook, Mark Zuckerberg, right? I think it's completely true that over time, and we're talking at this point decades, because that's how long successful startups are around for, over that time period, it's pretty common for one person to kind of really drive the company become the figurehead for it and stick out that company for a long period of time. And that's why we remember those people.\n",
      "But we're talking about the earliest stages of starting a company. And in those days, all of these founders had co-founders that they lent on for all the reasons I just mentioned. So I think it's always important to remember that when you're starting a company, and wondering whether you should have a co-founder or not.\n",
      "Okay, so hopefully, I've convinced you that you really do want a co-founder when you're starting a company. But what if you're really keen to get started in a company right now, and you don't have a co-founder that immediately available, or someone that you can bring on board? Should you wait to get a great co-founder before you start a company? Or should you just go ahead and get started? Well, I think the default answer is that you should wait because of all the reasons I just mentioned, all the benefits that you get from having a co-founder. But Y Combinator has funded single founders, and we have done so successfully. So I've noticed that there are some exceptions to this rule and they tend to follow a particular pattern. And that pattern is that the single founders, those who start company by themselves, has sort of two things that are true.\n",
      "So one is they have an idea that they have incredibly high conviction about either because they're solving a personal problem for themselves. So there really no solution is necessary. Or they're a domain expert, they're working in a field where they know for sure the sort of technology that's missing, where the customers might be. So there's all of that because they have such conviction in the idea that they don't need a co-founder to convince them that this is a good idea to get started on. They're ready to go.\n",
      "The second condition is that those single founders, they are able to make progress on that idea without a co-founder, in the short time at least. And that almost always means that they're technical, or at least technical enough to be able to build the first version of the product so they can show it to potential investors, or maybe even to potential co-founders who may want to join the company. And that second point is something I've noticed that the best single founders are also able to do is not only are they tremendously productive in building product and talking to users themselves, they're also able to run a great background search for co-founders and keep their eyes open. And if the opportunity arises, bring on a great co-founder. And I think the best example I can think of here would be Drew Houston of Dropbox.\n",
      "So Drew applied Y Combinator way, way back now, in 2007. He had a really solid idea for building Dropbox, because he'd already felt the pain of losing his own files. So he knew for sure, there was a better solution to build. But he didn't have a co-founder. And so Paul Graham, the Y Combinator founder, messaged him back saying, \"We love your application, you're great, the idea's great, but we really won't fund you without a co-founder. So come back to us when we have one.\" And Drew kind of went away, continued building the Dropbox prototype, while also looking for co-founders and found Arasha, who would be later the Dropbox CTO and his co-founder. And he applied again, and [inaudible 00:06:34] And now Dropbox is obviously a tremendously successful company.\n",
      "So that's kind of what I'd ask you to bear in mind is, if you're really keen to get a startup right now, but you don't have a co-founder, ask yourself like, do you have absolute high conviction in this idea, you know sure that this is the idea that we want to work on? There's no other ideas that you'd be open to? And can you really make progress without having a co-founder? And if those things are true, sure. Go ahead and give it a shot. But if not, I'd really suggest you wait until you do have a co-founder to start a company.\n",
      "So when you're thinking about bringing on a co-founder, what should you be looking for in them? Well, I actually think the single most important thing to know about someone before you start a company with them is how do they handle stress. Sort of second most important is how well are they going to help you handle stress. And the reason I say that is startups are very incredibly stressful, intense experience, as I mentioned before. And a great co-founder should be able to support you through those and help you through those. Because if you're determined and motivated, enjoy working together, you'll keep working on this startup for a long period of time. And that's usually what it takes to build a really successful company. So you really don't want to start a company with someone that you don't know particularly well. Because even if you've spent time with them in social events, or you hung out together a little bit, you don't really have insight into how they're going to respond to pressure and stress. And are they someone that's going to stick around when things are tough? And are they someone that's going to help you want to stick around when things are tough?\n",
      "So the best people to start companies with are always people that you've got some sort of personal experiences, where you kind of know the character and how they're going to respond to those tough situations. And that usually means there's someone, a close friend, or someone that you've worked with, under stressful conditions. So I'd certainly recommend that you be on the lookout and think about that when you're considering co-founders. The second thing I think you really want to look for is understanding the goals and values someone has for starting a company or wanting to do a startup. And honestly, I think when I was younger, I used to think of some goals and values as being sort of fuzzy terms. I didn't need them too much. But over time, I realized, really what they mean is understanding the motivations someone has for doing what they do. And in this context, I think it's really important to talk with someone, even if you know them very well, about why they want to do a startup, what are they hoping for? And the kinds of things that can come out are avoiding conflicting goals, right.\n",
      "So for example, let's say that you really want to build a high-growth, high-intensity, high-risk startup and you want to push forward, you want to raise venture capital, you want to hire a bunch of people, you want to just really go for it. And your goal is to take the company public and you're okay kind of taking lots of risks along the way to get that. That's a totally fine set of motivations, it's a very common set of motivations for startup founders. But let's say your co-founder prefers to take kind of a slow and steady approach. Maybe they're more motivated by building great software for a small group of people. And they will be totally fine if you just made enough revenue to pay yourselves good salaries and just grew a little bit every year. That's also a completely fine set of motivations for wanting to start a company. But the two motivations there aren't compatible with each other and they'll lead to inevitable conflict.\n",
      "So what I'd suggest is make sure that you have this conversation. And it's not a perfect predictor, because people's goals and ambitions for a startup change over time. I've seen people start companies because, honestly, they just wanted to get rich. And their hope was that they would be able to sell the company in two to three years for a good amount to a bigger company. But they got two to three years into the company, and they loved it so much, they got so excited by the challenge that they kept working on it, and they're still working on it a decade later. So that's totally fine. I'm not saying that having this conversation means you're gonna know for sure whether your goals and values are aligned over the next decade, which is how long it usually takes if a startup is successful, but at least having the conversation gives you a better chance of finding a co-founder who you're aligned with around a high level important stuff.\n",
      "Now, as you're probably wondering, I'm talking about what you should look for in co-founders, and I haven't mentioned the obvious thing, which is, what skills do they have. So it's obviously really important to have a co-founder who has the right sort of skills to help you grow the company. And usually that means someone who's got complementary set of skills to you, right? So if you're really great at sales, talking to users, getting customers, ideally, you'd have a co-founder who's really great at building product, and writing code, and building software, because the two of you can divide and conquer and get a lot done. Why do you think that's really important? I don't think it's one you should overly fixate it. All right. So more important than anything is just working with someone that you like working with and you trust. And so if sort of the person best fits that description doesn't necessarily have the perfect set of complementary skills, tools, I think that's fine, you should still bring them on as a co-founder. And then you can start hiring people as you need, and make enough progress in the company to get investment, you can hire people to kind of fill in the skills gaps, and that's okay.\n",
      "Another point I'd just make on this is, when you are trying to see if someone's got complementary skills to you, don't go too much into the details of how well do their skills map onto this specific idea you're working on right now. So a common example of this we see sometimes is someone's considering bringing on a technical co-founder. And they want to build an iPhone app. But the co-founder, even though they know them, they trust them, they've worked with him before, that co-founder isn't necessarily an iPhone app developer, they haven't built iPhone apps in the past. That's not a reason to rule someone out as a co-founder, right. What does matter is that they're willing to learn what they need to learn. So if they're not an iPhone developer, they're willing to learn how to do that. And particularly, they're willing to learn things that maybe aren't glamorous, like startups are often just a grind of doing a lot of boring work to get the thing going. And so long as you have a co-founder who's okay with that, it's totally fine if they don't have the perfect set of skillsets. So don't rule someone out who's potentially a great co-founder because they don't have this checklist of specific skills you're looking for. But do make sure you count them in if it's someone that you trust, you like working with, you've got a good sense of how they're going to handle the stress and pressure of the startup journey.\n",
      "So where should you look for to find co-founders? Well, the answer here is a little obvious. It's to start with the people you already know. So ideally, your friends and colleagues, and kind of ironically, the best time to find a co-founder are when you're not actually necessarily looking for a co-founder to start a company with right now. What I mean by that is, if I were going giving myself advice 10, 15 years ago, what I would say is, rather than sort of trying to pick a startup idea, and go and find co-founders to work on with it, I would suggest that I just look for people to do projects with. So if you're in school, look around, see who's in your class, who's in school, and like, identify people that you think would be cool to work on a project. And this project doesn't have to be a takeover the world idea of a company, just somebody you find interesting. Like maybe you're into games, and you want to build a cool game together. The thing that's awesome about projects is that it's much less scarier and asking for a far lower of commitment if you ask them to work on a project with you than it is to go straight into, \"Hey, let's start a company together.\" Right? So you have sort of a higher chance of people saying yes, if you ask them for this.\n",
      "And the other thing that's great about projects is you can work on different projects with different people and you can start developing a taste for who do you like? Well, what kinds of personalities? Like what kinds of skills are you actually good at as opposed to what you might think you're good at? And so what kind of complementary skills might you look for in a co-founder. And again, being in school or college is a really ideal time for this because you're surrounded by lots of people who usually have a decent chunk of spare time. And so you can start getting together to work on things that you think are fun. And, again, kind of ironically, although this is I'm suggesting you don't try and start a startup. Projects that you work on in your spare time often tend to be some of the greatest sources for actually finding great startup ideas and building huge companies. Facebook's an obvious example, something that started out as a project while Mark Zuckerberg was an undergrad at Harvard. And now it's turning into one of the biggest companies in the world. But that's not why I'm suggesting you do this. I'm suggesting you can look for people to work on projects with because that's a great way for you to get a sense of what kind of person do you enjoy working with, and what specific type of personality do you work well with.\n",
      "And this advice also applies if you're not in college or school, maybe if you're working at a company, like look at your coworkers, like, keep a list of people that you think are particularly smart, particularly capable, who impresses you, and start getting to know them better. And ask them if they're up for working on things in the evenings or weekends. That's the kind of personality...the kind of person who is interested in working on evening and weekend projects is the kind of person that's likely to make a great co-founder. I actually remember years ago at Y Combinator startup school, when it was an in-person physical event, we had Phil Libin, the founder of Evernote, there. And he kind of gave a somewhat extreme version of his advice, which was that he sort of years and years before he started a company knew that he wanted to start a company someday. And so he would only make friends with people that he thought could someday be a co-founder. And now, while I think that advice is maybe a little extreme, if you don't just want to be around people who might be co-founders, there is truth to it. Right? So I think this is kind of the thing where if you make this of a conscious effort well before you start a company, it'll probably the best bet for finding a great co-founder.\n",
      "But let's say you do know for sure that you want to start a company, and you're kind of ready to go, again, right now. How do you start finding co-founders? Well, again, you start in the same place, you start with people that you know. And what I've noticed is an issue people run into here is that they can be really reluctant to just ask people they know to start a company with them. And it's all kind of reasons, like maybe you're worried about how your relationship will change, like maybe you don't value the personal relationship more than the risks of working with someone. And those are fair concerns. But it's not the right optimization for starting a company, you have to make the ask.\n",
      "So what I'd suggest, the pretty simple algorithm here for finding co-founders, it's make a list of the people that you know, you're closest to that you think would be great co-founders, and start from top to bottom, and ask every single person there to go grab a coffee and talk to them, and ask them if they'll start a company with you and be your co-founder. If they say no, that's totally fine. Say you understand. But like, who would they start a company with and make it very specific. Ask them, \"If you were starting a company, who would be sort of your top three or four co-founders that you want to try and convince to work with you?\" And ask them for an introduction to each of those people. So your list keeps growing now. You ask the people you know, if they say no, you at least get some more ideas for names. And then you meet with those people. And you ask them and you simply repeat, repeat the same algorithm, ask them if they'd be interested in being a co-founder with you along. And if they say no, ask them who'd they try to recruit. And so this way, you start growing the tree of potential co-founders beyond those people you immediately know, but at least they're still connected via people that you do know. So they're not just sort of completely random strangers.\n",
      "The final sort of bit of advice, I'd say, for where to look is go out and try and meet people that just have similar interests to you. Right, it kind of sounds a little bit just like how to have a social life. But this is essentially what finding co-founders reduces to. So if you're an engineer, attend, like developer meetups or work on open source projects, or go to hackathons. Do things where others, engineers and builders are hanging out. And you're likely to find some meets. And if you're not technical, if you're interested in those things, you should totally attend those kinds of events too. But maybe also just attend or find people who are interested in the kinds of things you're interested in. Maybe you're interested in economics and finance, and that's kind of the pool of things, or is a pool of interests where you think you'll find a startup idea. Well, make a real effort to go out and meet people that have similar interests. And in these COVID times, there's lots of online groups and communities that you can join. But even in regular times, there's always ways to find people that have similar interests to you. And because if constantly on the lookout for people who might make co-founders, you have a high chance of finding someone who could be a good fit.\n",
      "So once you found a potential co-founder, how do you test out and know for sure that you both want to start a company together before making the final commitment? Well, it's not a perfect process. And at some point, you just kind of have to make the leap and hope that it will work out. But one way to de-risk it is to allocate a chunk of time where you agreed to kind of work together. And set yourself a deadline by which time you want to have ideally, like a MVP, or a prototype of something built, or you at least want to have gone out and try it out, pitching some customers and convincing them to pay you if you did build a particular product. These are all things you'd usually do when you're signing up with a new company or testing out new idea anyhow. And do that together, and agree that at the end of the time that you've set aside, that you both have an honest conversation, decide, \"Do we both enjoy working together on this? And if so, great, let's go ahead and make the leap.\" And if not, be honest and say, \"Hey, let's go our own separate ways.\"\n",
      "So making that a little bit more tangible. If you both have the no other commitments, you know, which is pretty uncommon, but sometimes happens if, say, you both graduated college and you didn't go and get a job because you want to start a company, then I'd say treat this like your full time job, right? Say that, \"Hey, we're going to set aside a month or three months. And let's just pick idea we're excited about and get as much progress made as we can on building the first version of it, and going out and signing customers.\" Even if you can't do that full time because you have other commitments, but then do it on evenings and weekends, right. But you'll have to sacrifice some amount of time doing other things in order to actually spend time working together. But the more times, the more hours you can accumulate of working together on the idea, the better sense you'll have for sure if you want to start company or not. Right.\n",
      "So once you've kind of done that, let's say you've decided that, \"Hey, we do want to start the company, and we want to be co-founders,\" then I think there's two important points you want to make sure that you're in agreement on. First is the equity split, right, like who owns how much of the company. Now, I think the way to think about this is, your sort of default equity allocation should really be 50/50. That's where you want to start from, right, because assuming that nothing's been built yet, you're at the earliest stages of the company, you're both going to make equal contributions, you both want to be equally motivated to work super hard in the company. And all the work is years and years ahead of you. So there is not really too much reason to deviate from a 50/50 equity split early on. However, we have seen different equity arrangements, and they have been successful. And so I kind of think the underlying thing that you're solving for here is making sure that both of you are happy with what the equity arrangement is, and will be motivated to keep working on the company for a long period of time. Right.\n",
      "And so, again, usually that means 50/50, but let's just say that you have been working on the company for a little bit longer, or you de-risked it somehow by yourself, and you're bringing on what is commonly called a later stage co-founder, then sometimes deviate from 50/50 might make sense. But the thing I would really encourage you to do is not optimize for the short term, right. So just because you made a little bit of progress and the idea by yourself, and you have a great co-founder, and you're sort of thinking, \"Hey, maybe I should take 70% interest, just leave them 30%,\" because you've made progress in the last 6 months, I would encourage you not to do that. Startups are a really long-term game and you win by making the best decision long term. Right. So if you have a great potential co-founder, and even though you made a little bit of progress on the company yourself, if you know that they won't be all in and fully committed to the success of the company unless they're a 50/50 partner, you should do that. You should make them 50/50 equity partner so you can keep them as motivated and get as much out of them as possible.\n",
      "The second thing I think you really want to decide is who's the CEO. Now, this can sometimes be an uncomfortable conversation. And to be honest, it's actually, I think, a bit of a red flag if it is uncomfortable conversation. And so as far as the actual title itself goes early on in the startup when it's just two or three co-founders, in terms of how it impacts your day to day and how you divide up responsibilities, the title doesn't actually matter. Like early on, you're all going to be doing a little bit of everything, there's like plenty of like unglamorous grunt work to go around. And just because you have a CEO title doesn't mean you get to sort of abscond from them. Right. So practically, it doesn't matter, like, in terms of who does what.\n",
      "One exception to that might be, if you need to be doing sales, it usually might be good if the CEO is a person, where CEO title is the person talking to customers and users and convincing them because they might feel a little bit more flattered if the CEO is pitching them. And this kind of gets the point of where really the only impact the CEO title has. And that is externally, and I would say specifically for investors. So investors care about seeing that there is sort of a clear leader, and a clear final decision maker or a tiebreaker. And that person should be the CEO. So when you're pitching investors, it's usually better for whoever sort of does most of the talking, whoever is going to be leading those conversations, that that person is the CEO.\n",
      "And now, where you run into problems, and a very, very common source of co-founder friction we see at Y Combinator is where two people really want to be the CEO. Right. And this can sort of...we can see this in Y Combinator interviews, where you end up with two people who kind of talk over each other, they interrupt each other, they can look at each other with a little bit of content when the other person's answering. These are all really, really bad signs, right. So be honest with yourselves, if you think it's really important to you to be the CEO, and you both feel that way, you're not good co-founders for each other. So just avoid all that pain and heartache and don't start a coming together. You ideally want to start a company with someone who doesn't care about that stuff if you do, or you're both indifferent to it and you'll find picking whoever you feel is best suited to the role for now, even if that changes sometime in the future.\n",
      "So let's kind of wrap up everything we've talked about. Once you're sure you want a co-founder, which I hope I've convinced you to, once you run the process to find some good candidates to be a co-founder, and you've identified someone that you really do want to start a company with, because you spent a little bit of time working on projects together and testing each other out, so to speak, then you have the conversations around what's the equity split and who's going to be the CEO. Now you're ready to formalize things. And formalizing really means the legal act of incorporating a company, setting up a vesting agreement. This is really important. Vesting means that the shares in the company, we don't all get them at once. They vest over a period of time, and there's very standard templates and documents for this that you should really ensure that you have in place. And then you're pretty much good to go.\n",
      "And you know, the when exactly should you sort of leap from, \"Hey, we're hanging out, working together,\" to, \"Hey, okay, let's like do some paperwork.\" Not a perfect answer to that, but it's just kind of up to you. Like once you've made the commitment to yourself and each other, that we're gonna make a real go of trying to build a company together, that's kind of the trigger for when you start making things real by getting sort of the legal, corporation and paperwork done. So, that's all the advice I have for how to think about finding the right co-founder and how to make it happen. I hope that helps and good luck.\n",
      "\n",
      "\n"
     ]
    }
   ],
   "source": [
    "#print(original_text)"
   ]
  },
  {
   "cell_type": "code",
   "execution_count": 13,
   "id": "faaeffa1",
   "metadata": {},
   "outputs": [],
   "source": [
    "file1 = \"C:\\\\Lachin\\\\NLP Project\\\\reference_summary.txt\"\n",
    "with open(file1,'r') as f1:\n",
    "    reference_summary = f1.readlines()\n",
    "reference_summary = ''.join(reference_summary)"
   ]
  },
  {
   "cell_type": "code",
   "execution_count": 14,
   "id": "dcd8bdd0",
   "metadata": {
    "collapsed": true
   },
   "outputs": [
    {
     "name": "stdout",
     "output_type": "stream",
     "text": [
      "How to Find the Right Co-Founder\n",
      "\n",
      "Three main reasons to have a co-founder are:\n",
      "1. Increased productivity: divide the work with someone with complimentary skills, and someone you can discuss ideas with. \n",
      "2. Moral support: helps to even out some of the highs and lows of the emotional rollercoaster that is a startup.\n",
      "3. Pattern matching i.e. the most successful startups in history - Apple, Facebook, Google, Microsoft - all had co-founders when they started.\n",
      "\n",
      "Solo founders usually have incredibly high conviction about their idea either because they're solving a personal problem for themselves or they're a domain expert. They are able to make progress on that idea without a co-founder, in the short term at least, because they're technical, or at least technical enough. They are very productive in building product and talking to users themselves.\n",
      "The most important thing to know about someone before you start a company with them is how do they handle stress and how well are they going to help you handle stress?\n",
      "The second thing is understanding the goals and values someone has for starting a company or wanting to do a startup.\n",
      "It's really important to have a co-founder who has the right sort of skills to help you grow the company. And usually that means someone who's got complementary set of skills to you.\n",
      "Ideally, look at the people you already know to find your co-founder - friends and colleagues. The best time to find a co-founder are when you're not actually looking for one! \n",
      "The kind of person who is interested in working on evening and weekend projects is the kind of person that's likely to make a great co-founder. Or you could go out and meet people that have similar interests to you.\n",
      "\n",
      "How do you test out and know for sure that you both want to start a company together before making the final commitment? Allocate a chunk of time to work together, set a deadline e.g. when you’ll have an MVP, or a prototype built, or pitching some customers and convincing them to pay if you did build a particular product. The more hours you can accumulate of working together on the idea, the better sense you'll have for sure if you want to start company or not.\n",
      "If you find a co-founder, you’ll need to agree on the equity split, decide is who's the CEO – the person who will be pitching investors – and formalize things in a legal agreement. \n",
      "\n"
     ]
    }
   ],
   "source": [
    "#print(reference_summary)"
   ]
  },
  {
   "cell_type": "code",
   "execution_count": 16,
   "id": "51d97b18",
   "metadata": {
    "collapsed": true
   },
   "outputs": [
    {
     "data": {
      "text/plain": [
       "{'input_ids': [0, 6179, 7, 6449, 5, 5143, 944, 12, 29991, 254, 50118, 50118, 15622, 1049, 2188, 7, 33, 10, 1029, 12, 7295, 32, 35, 50118, 134, 4, 29746, 8106, 35, 11079, 5, 173, 19, 951, 19, 22310, 2417, 6, 8, 951, 47, 64, 2268, 2956, 19, 4, 1437, 50118, 176, 4, 42822, 323, 35, 2607, 7, 190, 66, 103, 9, 5, 5487, 8, 6917, 9, 5, 3722, 15950, 876, 8831, 14, 16, 10, 9143, 4, 50118, 246, 4, 42762, 8150, 939, 4, 242, 4, 5, 144, 1800, 12784, 11, 750, 111, 1257, 6, 622, 6, 1204, 6, 3709, 111, 70, 56, 1029, 12, 19256, 268, 77, 51, 554, 4, 50118, 50118, 104, 5675, 14835, 2333, 33, 5784, 239, 6866, 59, 49, 1114, 1169, 142, 51, 214, 15582, 10, 1081, 936, 13, 1235, 50, 51, 214, 10, 11170, 3827, 4, 252, 32, 441, 7, 146, 2017, 15, 14, 1114, 396, 10, 1029, 12, 7295, 6, 11, 5, 765, 1385, 23, 513, 6, 142, 51, 214, 3165, 6, 50, 23, 513, 3165, 615, 4, 252, 32, 182, 8737, 11, 745, 1152, 8, 1686, 7, 1434, 1235, 4, 50118, 133, 144, 505, 631, 7, 216, 59, 951, 137, 47, 386, 10, 138, 19, 106, 16, 141, 109, 51, 3679, 3992, 8, 141, 157, 32, 51, 164, 7, 244, 47, 3679, 3992, 116, 50118, 133, 200, 631, 16, 2969, 5, 1175, 8, 3266, 951, 34, 13, 1158, 10, 138, 50, 6923, 7, 109, 10, 9143, 4, 50118, 243, 18, 269, 505, 7, 33, 10, 1029, 12, 7295, 54, 34, 5, 235, 2345, 9, 2417, 7, 244, 47, 1733, 5, 138, 4, 178, 2333, 14, 839, 951, 54, 18, 300, 25402, 278, 9, 2417, 7, 47, 4, 50118, 42233, 2368, 6, 356, 23, 5, 82, 47, 416, 216, 7, 465, 110, 1029, 12, 7295, 111, 964, 8, 4025, 4, 20, 275, 86, 7, 465, 10, 1029, 12, 7295, 32, 77, 47, 214, 45, 888, 546, 13, 65, 328, 1437, 50118, 133, 761, 9, 621, 54, 16, 2509, 11, 447, 15, 1559, 8, 983, 1377, 16, 5, 761, 9, 621, 14, 18, 533, 7, 146, 10, 372, 1029, 12, 7295, 4, 1793, 47, 115, 213, 66, 8, 972, 82, 14, 33, 1122, 3168, 7, 47, 4, 50118, 50118, 6179, 109, 47, 1296, 66, 8, 216, 13, 686, 14, 47, 258, 236, 7, 386, 10, 138, 561, 137, 442, 5, 507, 2720, 116, 404, 22486, 10, 15836, 9, 86, 7, 173, 561, 6, 278, 10, 4267, 364, 4, 571, 4, 77, 47, 17, 27, 890, 33, 41, 9133, 6, 50, 10, 17715, 1490, 6, 50, 9218, 103, 916, 8, 13618, 106, 7, 582, 114, 47, 222, 1119, 10, 1989, 1152, 4, 20, 55, 722, 47, 64, 29196, 9, 447, 561, 15, 5, 1114, 6, 5, 357, 1472, 47, 581, 33, 13, 686, 114, 47, 236, 7, 386, 138, 50, 45, 4, 50118, 1106, 47, 465, 10, 1029, 12, 7295, 6, 47, 17, 27, 890, 240, 7, 2854, 15, 5, 2355, 3462, 6, 2845, 16, 54, 18, 5, 1324, 126, 5, 621, 54, 40, 28, 9218, 867, 126, 8, 4828, 2072, 383, 11, 10, 1030, 1288, 4, 1437, 50118, 2], 'attention_mask': [1, 1, 1, 1, 1, 1, 1, 1, 1, 1, 1, 1, 1, 1, 1, 1, 1, 1, 1, 1, 1, 1, 1, 1, 1, 1, 1, 1, 1, 1, 1, 1, 1, 1, 1, 1, 1, 1, 1, 1, 1, 1, 1, 1, 1, 1, 1, 1, 1, 1, 1, 1, 1, 1, 1, 1, 1, 1, 1, 1, 1, 1, 1, 1, 1, 1, 1, 1, 1, 1, 1, 1, 1, 1, 1, 1, 1, 1, 1, 1, 1, 1, 1, 1, 1, 1, 1, 1, 1, 1, 1, 1, 1, 1, 1, 1, 1, 1, 1, 1, 1, 1, 1, 1, 1, 1, 1, 1, 1, 1, 1, 1, 1, 1, 1, 1, 1, 1, 1, 1, 1, 1, 1, 1, 1, 1, 1, 1, 1, 1, 1, 1, 1, 1, 1, 1, 1, 1, 1, 1, 1, 1, 1, 1, 1, 1, 1, 1, 1, 1, 1, 1, 1, 1, 1, 1, 1, 1, 1, 1, 1, 1, 1, 1, 1, 1, 1, 1, 1, 1, 1, 1, 1, 1, 1, 1, 1, 1, 1, 1, 1, 1, 1, 1, 1, 1, 1, 1, 1, 1, 1, 1, 1, 1, 1, 1, 1, 1, 1, 1, 1, 1, 1, 1, 1, 1, 1, 1, 1, 1, 1, 1, 1, 1, 1, 1, 1, 1, 1, 1, 1, 1, 1, 1, 1, 1, 1, 1, 1, 1, 1, 1, 1, 1, 1, 1, 1, 1, 1, 1, 1, 1, 1, 1, 1, 1, 1, 1, 1, 1, 1, 1, 1, 1, 1, 1, 1, 1, 1, 1, 1, 1, 1, 1, 1, 1, 1, 1, 1, 1, 1, 1, 1, 1, 1, 1, 1, 1, 1, 1, 1, 1, 1, 1, 1, 1, 1, 1, 1, 1, 1, 1, 1, 1, 1, 1, 1, 1, 1, 1, 1, 1, 1, 1, 1, 1, 1, 1, 1, 1, 1, 1, 1, 1, 1, 1, 1, 1, 1, 1, 1, 1, 1, 1, 1, 1, 1, 1, 1, 1, 1, 1, 1, 1, 1, 1, 1, 1, 1, 1, 1, 1, 1, 1, 1, 1, 1, 1, 1, 1, 1, 1, 1, 1, 1, 1, 1, 1, 1, 1, 1, 1, 1, 1, 1, 1, 1, 1, 1, 1, 1, 1, 1, 1, 1, 1, 1, 1, 1, 1, 1, 1, 1, 1, 1, 1, 1, 1, 1, 1, 1, 1, 1, 1, 1, 1, 1, 1, 1, 1, 1, 1, 1, 1, 1, 1, 1, 1, 1, 1, 1, 1, 1, 1, 1, 1, 1, 1, 1, 1, 1, 1, 1, 1, 1, 1, 1, 1, 1, 1, 1, 1, 1, 1, 1, 1, 1, 1, 1, 1, 1, 1, 1, 1, 1, 1, 1, 1, 1, 1, 1, 1, 1, 1, 1, 1, 1, 1, 1, 1, 1, 1, 1, 1, 1, 1, 1, 1, 1, 1, 1, 1, 1, 1, 1, 1, 1, 1, 1, 1, 1, 1, 1, 1, 1, 1, 1, 1, 1, 1, 1, 1, 1, 1, 1, 1, 1, 1, 1, 1, 1, 1, 1, 1, 1, 1, 1, 1, 1, 1, 1, 1, 1, 1, 1, 1, 1, 1, 1, 1, 1]}"
      ]
     },
     "execution_count": 16,
     "metadata": {},
     "output_type": "execute_result"
    }
   ],
   "source": [
    "words = tokenizer(reference_summary)\n",
    "words"
   ]
  },
  {
   "cell_type": "code",
   "execution_count": 27,
   "id": "4d6fe0d9",
   "metadata": {},
   "outputs": [],
   "source": [
    "def summarizing_text(text, number_of_tokens = tokenizer.model_max_length, max_len=0, min_len=0, human_summary=reference_summary):\n",
    "    sentences = []\n",
    "    total_sentences = []\n",
    "    length = 0\n",
    "    original_sentences = nltk.tokenize.sent_tokenize(text)\n",
    "    for sent in original_sentences:\n",
    "        word_tokens = tokenizer(sent)\n",
    "        length += len(word_tokens['input_ids'])\n",
    "        if (length < number_of_tokens):\n",
    "            sentences.append(sent)\n",
    "        else:\n",
    "            total_sentences.append(sentences)\n",
    "            length = len(word_tokens['input_ids'])\n",
    "            sentences = []\n",
    "            sentences.append(sent)\n",
    "    \n",
    "    \n",
    "    #Summarizing the text now\n",
    "    system_summary = []\n",
    "    for i in range(len(total_sentences)):\n",
    "        if (i==0):\n",
    "            print(len(total_sentences))\n",
    "        print(i)\n",
    "        text1 = ' '.join(total_sentences[i])\n",
    "        if ((max_len==0) and (min_len==0)):\n",
    "            z = summarizor(text1, do_sample=False)\n",
    "            system_summary.append(z[0]['summary_text'])\n",
    "        elif((max_len >0) and (min_len > 0)):\n",
    "            z = summarizor(text1, max_length=max_len, min_length =min_len, do_sample=False)\n",
    "            system_summary.append(z[0]['summary_text'])\n",
    "        else:\n",
    "            print('Please check \"max_len\" and \"min_len\" parameters')\n",
    "    final_system_summary = \" \".join(system_summary)\n",
    "    final_summary_tokens = tokenizer(final_system_summary)\n",
    "    print('Number of tokens in system summary {}'.format(len(final_summary_tokens['input_ids'])))\n",
    "    human_summary_tokens = tokenizer(human_summary)\n",
    "    print('Number of tokens in human summary {}'.format(len(human_summary_tokens['input_ids'])))\n",
    "    \n",
    "    #Accuracy checking\n",
    "    r = Rouge()\n",
    "    results = r.get_scores(final_system_summary,human_summary)\n",
    "    print(results)\n",
    "    \n",
    "    \n",
    "    return final_system_summary\n",
    "        \n",
    "        "
   ]
  },
  {
   "cell_type": "code",
   "execution_count": 28,
   "id": "6b1ee2ee",
   "metadata": {},
   "outputs": [
    {
     "name": "stdout",
     "output_type": "stream",
     "text": [
      "6\n",
      "0\n",
      "1\n",
      "2\n",
      "3\n",
      "4\n",
      "5\n",
      "Number of tokens in final summary 494\n",
      "Number of tokens in human summary 521\n",
      "[{'rouge-1': {'r': 0.45248868778280543, 'p': 0.4672897196261682, 'f': 0.45977010994382356}, 'rouge-2': {'r': 0.23116883116883116, 'p': 0.23482849604221637, 'f': 0.23298428819402575}, 'rouge-l': {'r': 0.416289592760181, 'p': 0.42990654205607476, 'f': 0.42298850074842126}}]\n",
      "Wall time: 1min 1s\n"
     ]
    },
    {
     "data": {
      "text/plain": [
       "\" Harj Taggar: Why should you have a co-founder when you're starting a company? He says there are three main reasons you really want a founder when you start a company . The first is productivity, you can get a lot more work done if you have someone to divide the work up with . The second reason is moral support, and it's great to have someone you can lean on for support during the tough times .  Y Combinator has funded single founders, and we have done so successfully . But there are some exceptions to this rule and they tend to follow a particular pattern . Single founders have an idea that they have incredibly high conviction about either because they're solving a personal problem for themselves . The best single founders are also able to run a great background search for co-founders and keep their eyes open .  The second thing I think you really want to look for is understanding the goals and values someone has for starting a company or wanting to do a startup . The kinds of things that can come out are avoiding conflicting goals, right. So for example, let's say that you want to build a high-growth, high-intensity, high risk startup . Maybe they're more motivated by building great software for a small group of people .  The best time to find a co-founder is when you're not looking for a startup to start a company with right now . Instead of picking a startup idea, I would suggest that I just look for people to do projects with . Projects that you work on in your spare time often tend to be some of the greatest sources of great startup ideas and building huge companies .  If you want to start a company, try and meet people that have similar interests to you . Make a list of the people that you know, you're closest to that you think would be great co-founders, and start from top to bottom, and ask every single person there to go grab a coffee and talk to them . If they say no, ask them who'd they try to recruit to be a co-founder with you along .  Startups are a really long-term game and you win by making the best decision long term . Set yourself a deadline by which time you want to have ideally, like a MVP, or a prototype of something built, or you at least want to try it out, pitching some customers and convincing them to pay you if you did build a product .\""
      ]
     },
     "execution_count": 28,
     "metadata": {},
     "output_type": "execute_result"
    }
   ],
   "source": [
    "%%time\n",
    "summarizing_text(original_text)"
   ]
  },
  {
   "cell_type": "code",
   "execution_count": 31,
   "id": "32fbd57f",
   "metadata": {},
   "outputs": [
    {
     "name": "stdout",
     "output_type": "stream",
     "text": [
      "8\n",
      "0\n",
      "1\n",
      "2\n",
      "3\n",
      "4\n",
      "5\n",
      "6\n",
      "7\n",
      "Number of tokens in final summary 628\n",
      "Number of tokens in human summary 521\n",
      "[{'rouge-1': {'r': 0.5429864253393665, 'p': 0.47619047619047616, 'f': 0.507399572188496}, 'rouge-2': {'r': 0.3116883116883117, 'p': 0.2575107296137339, 'f': 0.2820211466316672}, 'rouge-l': {'r': 0.5158371040723982, 'p': 0.4523809523809524, 'f': 0.482029593330145}}]\n",
      "Wall time: 1min 10s\n"
     ]
    },
    {
     "data": {
      "text/plain": [
       "' Harj Taggar: There are three main reasons you really want a co-founder when you\\'re starting a company . The first is productivity, the second is moral support, and the third is pattern matching to success . If you look at a list of the most successful startups in history, think of Apple, Facebook, Google, Microsoft, they all had co-founders .  Y Combinator has funded single founders, and we have done so successfully . But there are some exceptions to this rule and they tend to follow a particular pattern . The best single founders are tremendously productive in building product and talking to users themselves, they\\'re also able to run a great background search for co-founders .  The single most important thing to know about someone before you start a company with them is how do they handle stress . The best people to start companies with are always people that you\\'ve got some sort of personal experiences . The second thing I think you really want to look for is understanding the goals and values someone has for starting a company or wanting to do a startup .  Aaron Carroll: Make sure that you have a conversation about your goals and values . He says it\\'s not a perfect predictor because people\\'s goals and ambitions for a startup change over time . Carroll: It\\'s important to have a co-founder who has the right sort of skills to help you grow the company .  The best time to find a co-founder is when you\\'re not looking for a startup to start a company with right now . Instead of trying to pick a startup idea, look for people to do projects with . Projects that you work on in your spare time often tend to be some of the greatest sources for great startup ideas and building huge companies .  Start with a list of people you know, you\\'re closest to that you think would be great co-founders, and start from top to bottom . Ask every single person there to go grab a coffee and talk to them, and ask them if they\\'ll start a company with you and be your co-founder . If they say no, that\\'s totally fine. Say you understand. But like, make it very specific. Ask them, \"If you were starting a company, who would be sort of your top three or four co-foundeders that you want to try and convince to work with you?\"  Go out and try and meet people that just have similar interests to you . Set yourself a deadline by which time you want to have ideally, like a MVP, or a prototype of something built . Set aside a chunk of time where you agreed to kind of work together, and agree that at the end of the time that you\\'ve set aside, that you both have an honest conversation .  Startups are a really long-term game and you win by making the best decision long term . The default equity allocation should really be 50/50 for the startup . The second thing I think you really want to decide is who\\'s the CEO . The title doesn\\'t actually matter in terms of how it impacts your day to day and how you divide up responsibilities .'"
      ]
     },
     "execution_count": 31,
     "metadata": {},
     "output_type": "execute_result"
    }
   ],
   "source": [
    "%%time\n",
    "summarizing_text(original_text,number_of_tokens=800)"
   ]
  },
  {
   "cell_type": "code",
   "execution_count": 35,
   "id": "a62b2c86",
   "metadata": {},
   "outputs": [
    {
     "name": "stdout",
     "output_type": "stream",
     "text": [
      "14\n",
      "0\n",
      "1\n",
      "2\n",
      "3\n",
      "4\n",
      "5\n",
      "6\n",
      "7\n",
      "8\n",
      "9\n",
      "10\n",
      "11\n",
      "12\n",
      "13\n",
      "Number of tokens in final summary 670\n",
      "Number of tokens in human summary 521\n",
      "[{'rouge-1': {'r': 0.497737556561086, 'p': 0.40293040293040294, 'f': 0.44534412461005757}, 'rouge-2': {'r': 0.21818181818181817, 'p': 0.17872340425531916, 'f': 0.1964912231195925}, 'rouge-l': {'r': 0.4343891402714932, 'p': 0.3516483516483517, 'f': 0.3886639626667377}}]\n",
      "Wall time: 1min 17s\n"
     ]
    },
    {
     "data": {
      "text/plain": [
       "' Harj Taggar: Why should you have a co-founder when you\\'re starting a company? He says there are three main reasons you really want a company with a partner . The first is productivity, you can get a lot more  The final reason I\\'d say to have a co-founder is pattern matching to success . Think of Apple, Facebook, Google, Microsoft, they all had co-founders when they started . You can\\'t really be as open or  Y Combinator has funded single founders, and we have done so successfully . The default answer is that you should wait because of all the benefits that you get from having a co-founder . But there are some exceptions to this rule  Dropbox co-founder Drew Drexler applied to Y Combinator for funding but didn\\'t have a co-founder . He found Arasha, who would be later the Dropbox CTO and his co-founded . Drex  The best people to start companies with are always people that you\\'ve got some sort of personal experiences, where you kind of know the character and how they\\'re going to respond to those tough situations . The second thing I think you really want  You should talk about what you should look for in co-founders, and what skills do they have . It\\'s important to have a co-founder who has the right sort of skills to help you grow the company .  If someone doesn\\'t have the perfect set of complementary skills, you should still bring them on as a co-founder . Don\\'t go too much into the details of how well do their skills map onto this specific idea you\\'re working on  The best time to find a co-founder are when you\\'re not actually looking for a startup to start a company with right now . Instead of picking a startup idea, look for people to do projects with . Facebook\\'s an obvious example  Y Combinator founder Phil Libin gave a somewhat extreme version of his advice, which was that he would only make friends with people that he thought could someday be a co-founder . But that advice is maybe a little extreme,  Make a list of people you know, you\\'re closest to that you think would be great co-founders, and start from top to bottom . Ask every single person there to go grab a coffee and talk to them, and ask  How do you test out and know for sure that you both want to start a company together before making the final commitment? Set yourself a deadline by which time you want to have ideally, like a MVP, or a prototype of something built  If you both graduated college and you didn\\'t go and get a job because you want to start a company, then I\\'d say treat this like your full time job, right? Say that, \"Hey, we\\'re going to set  Startups are a really long-term game and you win by making the best decision long term . If you have a great potential co-founder, you should make them 50/50 equity partner . The second thing I think you really  A common source of co-founder friction is where two people really want to be the CEO . When you\\'re pitching investors, it\\'s usually better for whoever sort of does most of the talking, whoever is going to be leading those conversations'"
      ]
     },
     "execution_count": 35,
     "metadata": {},
     "output_type": "execute_result"
    }
   ],
   "source": [
    "%%time\n",
    "summarizing_text(original_text,number_of_tokens=500, max_len=50, min_len=25)"
   ]
  },
  {
   "cell_type": "code",
   "execution_count": null,
   "id": "05326722",
   "metadata": {},
   "outputs": [],
   "source": []
  }
 ],
 "metadata": {
  "kernelspec": {
   "display_name": "Python 3",
   "language": "python",
   "name": "python3"
  },
  "language_info": {
   "codemirror_mode": {
    "name": "ipython",
    "version": 3
   },
   "file_extension": ".py",
   "mimetype": "text/x-python",
   "name": "python",
   "nbconvert_exporter": "python",
   "pygments_lexer": "ipython3",
   "version": "3.8.8"
  }
 },
 "nbformat": 4,
 "nbformat_minor": 5
}
