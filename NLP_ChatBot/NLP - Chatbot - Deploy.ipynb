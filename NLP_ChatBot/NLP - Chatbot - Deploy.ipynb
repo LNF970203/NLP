{
 "cells": [
  {
   "cell_type": "code",
   "execution_count": 68,
   "id": "2715acbf",
   "metadata": {},
   "outputs": [],
   "source": [
    "import json\n",
    "import numpy as np\n",
    "from tensorflow import keras\n",
    "from sklearn.preprocessing import LabelEncoder\n",
    "import colorama\n",
    "from colorama import Fore, Style, Back\n",
    "import random\n",
    "import pickle\n",
    "from tensorflow.keras.preprocessing.sequence import pad_sequences"
   ]
  },
  {
   "cell_type": "code",
   "execution_count": 69,
   "id": "9efe0a20",
   "metadata": {},
   "outputs": [],
   "source": [
    "colorama.init()"
   ]
  },
  {
   "cell_type": "code",
   "execution_count": 70,
   "id": "d2db65f4",
   "metadata": {},
   "outputs": [],
   "source": [
    "data = {\"intents\": [\n",
    "    {\"tag\": \"greeting\",\n",
    "     \"patterns\": [\"Hi\", \"Hey\", \"Is anyone there?\", \"Hello\", \"Hay\"],\n",
    "     \"responses\": [\"Hello\", \"Hi\", \"Hi there\"]\n",
    "    },\n",
    "    {\"tag\": \"goodbye\",\n",
    "     \"patterns\": [\"Bye\", \"See you later\", \"Goodbye\"],\n",
    "     \"responses\": [\"See you later\", \"Have a nice day\", \"Bye! Come back again\"]\n",
    "    },\n",
    "    {\"tag\": \"thanks\",\n",
    "     \"patterns\": [\"Thanks\", \"Thank you\", \"That's helpful\", \"Thanks for the help\"],\n",
    "     \"responses\": [\"Happy to help!\", \"Any time!\", \"My pleasure\", \"You're most welcome!\"]\n",
    "    },\n",
    "    {\"tag\": \"about\",\n",
    "     \"patterns\": [\"Who are you?\", \"What are you?\", \"Who you are?\" ],\n",
    "     \"responses\": [\"I.m Joana, your bot assistant\", \"I'm Joana, an Artificial Intelligent bot\"]\n",
    "    },\n",
    "    {\"tag\": \"name\",\n",
    "    \"patterns\": [\"what is your name\", \"what should I call you\", \"whats your name?\"],\n",
    "    \"responses\": [\"You can call me Joana.\", \"I'm Joana!\", \"Just call me as Joana\"]\n",
    "    },\n",
    "    {\"tag\": \"help\",\n",
    "    \"patterns\": [\"Could you help me?\", \"give me a hand please\", \"Can you help?\", \"What can you do for me?\", \"I need a support\", \"I need a help\", \"support me please\"],\n",
    "    \"responses\": [\"Tell me how can assist you\", \"Tell me your problem to assist you\", \"Yes Sure, How can I support you\"]\n",
    "    },\n",
    "    {\"tag\": \"createaccount\",\n",
    "    \"patterns\": [\"I need to create a new account\", \"how to open a new account\", \"I want to create an account\", \"can you create an account for me\", \"how to open a new account\"],\n",
    "    \"responses\": [\"You can just easily create a new account from our web site\", \"Just go to our web site and follow the guidelines to create a new account\"]\n",
    "    },\n",
    "    {\"tag\": \"complaint\",\n",
    "    \"patterns\": [\"have a complaint\", \"I want to raise a complaint\", \"there is a complaint about a service\"],\n",
    "    \"responses\": [\"Please provide us your complaint in order to assist you\", \"Please mention your complaint, we will reach you and sorry for any inconvenience caused\"]\n",
    "    }\n",
    "]\n",
    "}"
   ]
  },
  {
   "cell_type": "code",
   "execution_count": 75,
   "id": "322facb4",
   "metadata": {},
   "outputs": [],
   "source": [
    "def chat():\n",
    "    #load train model\n",
    "    model = keras.models.load_model('chat_model')\n",
    "    \n",
    "    #toknizer object\n",
    "    with open('tokenizer.pikle', 'rb') as handle:\n",
    "        tokenizer = pickle.load(handle)\n",
    "        \n",
    "    #label encoder\n",
    "    with open('label_encoder.pikle','rb') as lbl:\n",
    "        lbl_encoder = pickle.load(lbl)\n",
    "        \n",
    "    #params\n",
    "    max_len = 20\n",
    "    \n",
    "    print(Fore.YELLOW + \"Start Messaging with the Bot (Type 'Quit' to stop)\"+ Style.RESET_ALL)\n",
    "    \n",
    "    while True:\n",
    "        print(Fore.LIGHTBLACK_EX + \"User: \"+ Style.RESET_ALL, end='')\n",
    "        inp = input()\n",
    "        if (inp.lower() == 'quit'):\n",
    "            break\n",
    "        \n",
    "        result = model.predict(pad_sequences(tokenizer.texts_to_sequences([inp]), truncating='post', maxlen = max_len))\n",
    "        #print(type(result.tolist()))\n",
    "        result1 = result.tolist()\n",
    "        #print(result1)\n",
    "        #print(result1[0][np.argmax(result)])\n",
    "        #print(np.argmax(result))\n",
    "        tag = lbl_encoder.inverse_transform([np.argmax(result)])\n",
    "        \n",
    "        for i in data['intents']:\n",
    "            if (result1[0][np.argmax(result)] < 0.4):\n",
    "                print(Fore.GREEN+ \"ChatBot: i don't know how to answer that \" + Style.RESET_ALL)\n",
    "                break\n",
    "                \n",
    "            else:\n",
    "                if (i['tag'] == tag):\n",
    "                    print(Fore.GREEN+ \"ChatBot: \" + Style.RESET_ALL + np.random.choice(i['responses']))\n",
    "        \n",
    "    \n",
    "            "
   ]
  },
  {
   "cell_type": "code",
   "execution_count": 76,
   "id": "94cdb303",
   "metadata": {},
   "outputs": [
    {
     "name": "stdout",
     "output_type": "stream",
     "text": [
      "Start Messaging with the Bot (Type 'Quit' to stop)\n",
      "User: hi\n",
      "ChatBot: Hi\n",
      "User: thanks\n",
      "ChatBot: Any time!\n",
      "User: thank you\n",
      "ChatBot: My pleasure\n",
      "User: dgdsg\n",
      "ChatBot: i don't know how to answer that \n",
      "User: quit\n"
     ]
    }
   ],
   "source": [
    "chat()"
   ]
  },
  {
   "cell_type": "code",
   "execution_count": null,
   "id": "91a7cef4",
   "metadata": {},
   "outputs": [],
   "source": []
  }
 ],
 "metadata": {
  "kernelspec": {
   "display_name": "Python 3",
   "language": "python",
   "name": "python3"
  },
  "language_info": {
   "codemirror_mode": {
    "name": "ipython",
    "version": 3
   },
   "file_extension": ".py",
   "mimetype": "text/x-python",
   "name": "python",
   "nbconvert_exporter": "python",
   "pygments_lexer": "ipython3",
   "version": "3.8.8"
  }
 },
 "nbformat": 4,
 "nbformat_minor": 5
}
