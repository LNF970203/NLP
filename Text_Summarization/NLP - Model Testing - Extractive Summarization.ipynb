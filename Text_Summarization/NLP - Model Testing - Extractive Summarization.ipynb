{
 "cells": [
  {
   "cell_type": "code",
   "execution_count": 7,
   "id": "eb062b77",
   "metadata": {},
   "outputs": [],
   "source": [
    "import spacy\n",
    "import en_core_web_sm\n",
    "import nltk\n",
    "from goose3 import Goose\n",
    "from rouge import Rouge\n",
    "from sumy.parsers.plaintext import PlaintextParser\n",
    "from sumy.nlp.tokenizers import Tokenizer\n",
    "from sumy.summarizers.sum_basic import SumBasicSummarizer\n",
    "from sumy.summarizers.luhn import LuhnSummarizer"
   ]
  },
  {
   "cell_type": "code",
   "execution_count": 3,
   "id": "a28a3a23",
   "metadata": {},
   "outputs": [],
   "source": [
    "file = \"C:\\\\Lachin\\\\NLP Project\\\\Full podcast.txt\"\n",
    "with open(file,'r') as f:\n",
    "    original_text = f.readlines()\n",
    "original_text = ''.join(original_text)"
   ]
  },
  {
   "cell_type": "code",
   "execution_count": 4,
   "id": "32c6c4f6",
   "metadata": {},
   "outputs": [],
   "source": [
    "file1 = \"C:\\\\Lachin\\\\NLP Project\\\\reference_summary.txt\"\n",
    "with open(file1,'r') as f1:\n",
    "    reference_summary = f1.readlines()\n",
    "reference_summary = ''.join(reference_summary)"
   ]
  },
  {
   "cell_type": "code",
   "execution_count": 31,
   "id": "6a337266",
   "metadata": {},
   "outputs": [
    {
     "name": "stdout",
     "output_type": "stream",
     "text": [
      "Wall time: 152 ms\n"
     ]
    }
   ],
   "source": [
    "%%time\n",
    "parser = PlaintextParser(original_text, Tokenizer('English'))\n",
    "summarisor = SumBasicSummarizer()\n",
    "summary = summarisor(parser.document,40)"
   ]
  },
  {
   "cell_type": "code",
   "execution_count": 33,
   "id": "5933d4da",
   "metadata": {},
   "outputs": [
    {
     "name": "stdout",
     "output_type": "stream",
     "text": [
      "So let's start by talking about why should you have a co-founder at all. The second reason is moral support. And that's what you get from a co-founder. But Y Combinator has funded single founders, and we have done so successfully. So there really no solution is necessary. They're ready to go. So Drew applied Y Combinator way, way back now, in 2007. He had a really solid idea for building Dropbox, because he'd already felt the pain of losing his own files. And can you really make progress without having a co-founder? And are they someone that's going to stick around when things are tough? I didn't need them too much. So that's totally fine. And usually that means someone who's got complementary set of skills to you, right? I don't think it's one you should overly fixate it. All right. And they want to build an iPhone app. Like what kinds of skills are you actually good at as opposed to what you might think you're good at? Projects that you work on in your spare time often tend to be some of the greatest sources for actually finding great startup ideas and building huge companies. Facebook's an obvious example, something that started out as a project while Mark Zuckerberg was an undergrad at Harvard. And ask them if they're up for working on things in the evenings or weekends. How do you start finding co-founders? Say you understand. But like, who would they start a company with and make it very specific. So your list keeps growing now. And then you meet with those people. So they're not just sort of completely random strangers. But maybe also just attend or find people who are interested in the kinds of things you're interested in. But even in regular times, there's always ways to find people that have similar interests to you. So once you found a potential co-founder, how do you test out and know for sure that you both want to start a company together before making the final commitment? Well, it's not a perfect process. So making that a little bit more tangible. Say that, \"Hey, we're going to set aside a month or three months. And all the work is years and years ahead of you. However, we have seen different equity arrangements, and they have been successful. Startups are a really long-term game and you win by making the best decision long term. Now, this can sometimes be an uncomfortable conversation. So practically, it doesn't matter, like, in terms of who does what. And this kind of gets the point of where really the only impact the CEO title has. And this can sort of...we can see this in Y Combinator interviews, where you end up with two people who kind of talk over each other, they interrupt each other, they can look at each other with a little bit of content when the other person's answering. This is really important.\n"
     ]
    }
   ],
   "source": [
    "summary_sentences = []\n",
    "for i in summary:\n",
    "    summary_sentences.append(str(i))\n",
    "    \n",
    "final_summary_sntences = ' '.join(summary_sentences)\n",
    "print(final_summary_sntences)"
   ]
  },
  {
   "cell_type": "code",
   "execution_count": 34,
   "id": "22d9f799",
   "metadata": {
    "collapsed": true
   },
   "outputs": [
    {
     "name": "stdout",
     "output_type": "stream",
     "text": [
      "Wall time: 113 ms\n"
     ]
    },
    {
     "data": {
      "text/plain": [
       "(<Sentence: So if one founder is having a bad day, they're feeling a little down, despondent, and they've become a little pessimistic and feel like the startup is about to die, the other co-founder can just help bring them up a little bit, and keep them going and keep them motivated.>,\n",
       " <Sentence: I think it's completely true that over time, and we're talking at this point decades, because that's how long successful startups are around for, over that time period, it's pretty common for one person to kind of really drive the company become the figurehead for it and stick out that company for a long period of time.>,\n",
       " <Sentence: And that almost always means that they're technical, or at least technical enough to be able to build the first version of the product so they can show it to potential investors, or maybe even to potential co-founders who may want to join the company.>,\n",
       " <Sentence: And that second point is something I've noticed that the best single founders are also able to do is not only are they tremendously productive in building product and talking to users themselves, they're also able to run a great background search for co-founders and keep their eyes open.>,\n",
       " <Sentence: So that's kind of what I'd ask you to bear in mind is, if you're really keen to get a startup right now, but you don't have a co-founder, ask yourself like, do you have absolute high conviction in this idea, you know sure that this is the idea that we want to work on?>,\n",
       " <Sentence: I'm not saying that having this conversation means you're gonna know for sure whether your goals and values are aligned over the next decade, which is how long it usually takes if a startup is successful, but at least having the conversation gives you a better chance of finding a co-founder who you're aligned with around a high level important stuff.>,\n",
       " <Sentence: What I mean by that is, if I were going giving myself advice 10, 15 years ago, what I would say is, rather than sort of trying to pick a startup idea, and go and find co-founders to work on with it, I would suggest that I just look for people to do projects with.>,\n",
       " <Sentence: I'm suggesting you can look for people to work on projects with because that's a great way for you to get a sense of what kind of person do you enjoy working with, and what specific type of personality do you work well with.>,\n",
       " <Sentence: And this advice also applies if you're not in college or school, maybe if you're working at a company, like look at your coworkers, like, keep a list of people that you think are particularly smart, particularly capable, who impresses you, and start getting to know them better.>,\n",
       " <Sentence: So what I'd suggest, the pretty simple algorithm here for finding co-founders, it's make a list of the people that you know, you're closest to that you think would be great co-founders, and start from top to bottom, and ask every single person there to go grab a coffee and talk to them, and ask them if they'll start a company with you and be your co-founder.>,\n",
       " <Sentence: And set yourself a deadline by which time you want to have ideally, like a MVP, or a prototype of something built, or you at least want to have gone out and try it out, pitching some customers and convincing them to pay you if you did build a particular product.>,\n",
       " <Sentence: If you both have the no other commitments, you know, which is pretty uncommon, but sometimes happens if, say, you both graduated college and you didn't go and get a job because you want to start a company, then I'd say treat this like your full time job, right?>,\n",
       " <Sentence: So once you've kind of done that, let's say you've decided that, \"Hey, we do want to start the company, and we want to be co-founders,\" then I think there's two important points you want to make sure that you're in agreement on.>,\n",
       " <Sentence: And so I kind of think the underlying thing that you're solving for here is making sure that both of you are happy with what the equity arrangement is, and will be motivated to keep working on the company for a long period of time.>,\n",
       " <Sentence: So just because you made a little bit of progress and the idea by yourself, and you have a great co-founder, and you're sort of thinking, \"Hey, maybe I should take 70% interest, just leave them 30%,\" because you've made progress in the last 6 months, I would encourage you not to do that.>,\n",
       " <Sentence: So if you have a great potential co-founder, and even though you made a little bit of progress on the company yourself, if you know that they won't be all in and fully committed to the success of the company unless they're a 50/50 partner, you should do that.>,\n",
       " <Sentence: One exception to that might be, if you need to be doing sales, it usually might be good if the CEO is a person, where CEO title is the person talking to customers and users and convincing them because they might feel a little bit more flattered if the CEO is pitching them.>,\n",
       " <Sentence: And this can sort of...we can see this in Y Combinator interviews, where you end up with two people who kind of talk over each other, they interrupt each other, they can look at each other with a little bit of content when the other person's answering.>,\n",
       " <Sentence: Once you're sure you want a co-founder, which I hope I've convinced you to, once you run the process to find some good candidates to be a co-founder, and you've identified someone that you really do want to start a company with, because you spent a little bit of time working on projects together and testing each other out, so to speak, then you have the conversations around what's the equity split and who's going to be the CEO.>,\n",
       " <Sentence: Like once you've made the commitment to yourself and each other, that we're gonna make a real go of trying to build a company together, that's kind of the trigger for when you start making things real by getting sort of the legal, corporation and paperwork done.>)"
      ]
     },
     "execution_count": 34,
     "metadata": {},
     "output_type": "execute_result"
    }
   ],
   "source": [
    "%%time\n",
    "parser = PlaintextParser(original_text, Tokenizer('English'))\n",
    "summarisor1 = LuhnSummarizer()\n",
    "summary1 = summarisor1(parser.document,20)\n",
    "summary1"
   ]
  },
  {
   "cell_type": "code",
   "execution_count": 26,
   "id": "499537c9",
   "metadata": {},
   "outputs": [],
   "source": [
    "sentences = []\n",
    "for i in summary1:\n",
    "    sentences.append(str(i))"
   ]
  },
  {
   "cell_type": "code",
   "execution_count": 27,
   "id": "ffea7ca3",
   "metadata": {},
   "outputs": [],
   "source": [
    "sentences\n",
    "final_summarizor = ' '.join(sentences)"
   ]
  },
  {
   "cell_type": "code",
   "execution_count": 28,
   "id": "580835e0",
   "metadata": {},
   "outputs": [
    {
     "name": "stdout",
     "output_type": "stream",
     "text": [
      "So if one founder is having a bad day, they're feeling a little down, despondent, and they've become a little pessimistic and feel like the startup is about to die, the other co-founder can just help bring them up a little bit, and keep them going and keep them motivated. I think it's completely true that over time, and we're talking at this point decades, because that's how long successful startups are around for, over that time period, it's pretty common for one person to kind of really drive the company become the figurehead for it and stick out that company for a long period of time. And that almost always means that they're technical, or at least technical enough to be able to build the first version of the product so they can show it to potential investors, or maybe even to potential co-founders who may want to join the company. And that second point is something I've noticed that the best single founders are also able to do is not only are they tremendously productive in building product and talking to users themselves, they're also able to run a great background search for co-founders and keep their eyes open. So that's kind of what I'd ask you to bear in mind is, if you're really keen to get a startup right now, but you don't have a co-founder, ask yourself like, do you have absolute high conviction in this idea, you know sure that this is the idea that we want to work on? I'm not saying that having this conversation means you're gonna know for sure whether your goals and values are aligned over the next decade, which is how long it usually takes if a startup is successful, but at least having the conversation gives you a better chance of finding a co-founder who you're aligned with around a high level important stuff. What I mean by that is, if I were going giving myself advice 10, 15 years ago, what I would say is, rather than sort of trying to pick a startup idea, and go and find co-founders to work on with it, I would suggest that I just look for people to do projects with. I'm suggesting you can look for people to work on projects with because that's a great way for you to get a sense of what kind of person do you enjoy working with, and what specific type of personality do you work well with. And this advice also applies if you're not in college or school, maybe if you're working at a company, like look at your coworkers, like, keep a list of people that you think are particularly smart, particularly capable, who impresses you, and start getting to know them better. So what I'd suggest, the pretty simple algorithm here for finding co-founders, it's make a list of the people that you know, you're closest to that you think would be great co-founders, and start from top to bottom, and ask every single person there to go grab a coffee and talk to them, and ask them if they'll start a company with you and be your co-founder. And set yourself a deadline by which time you want to have ideally, like a MVP, or a prototype of something built, or you at least want to have gone out and try it out, pitching some customers and convincing them to pay you if you did build a particular product. If you both have the no other commitments, you know, which is pretty uncommon, but sometimes happens if, say, you both graduated college and you didn't go and get a job because you want to start a company, then I'd say treat this like your full time job, right? So once you've kind of done that, let's say you've decided that, \"Hey, we do want to start the company, and we want to be co-founders,\" then I think there's two important points you want to make sure that you're in agreement on. And so I kind of think the underlying thing that you're solving for here is making sure that both of you are happy with what the equity arrangement is, and will be motivated to keep working on the company for a long period of time. So just because you made a little bit of progress and the idea by yourself, and you have a great co-founder, and you're sort of thinking, \"Hey, maybe I should take 70% interest, just leave them 30%,\" because you've made progress in the last 6 months, I would encourage you not to do that. So if you have a great potential co-founder, and even though you made a little bit of progress on the company yourself, if you know that they won't be all in and fully committed to the success of the company unless they're a 50/50 partner, you should do that. One exception to that might be, if you need to be doing sales, it usually might be good if the CEO is a person, where CEO title is the person talking to customers and users and convincing them because they might feel a little bit more flattered if the CEO is pitching them. And this can sort of...we can see this in Y Combinator interviews, where you end up with two people who kind of talk over each other, they interrupt each other, they can look at each other with a little bit of content when the other person's answering. Once you're sure you want a co-founder, which I hope I've convinced you to, once you run the process to find some good candidates to be a co-founder, and you've identified someone that you really do want to start a company with, because you spent a little bit of time working on projects together and testing each other out, so to speak, then you have the conversations around what's the equity split and who's going to be the CEO. Like once you've made the commitment to yourself and each other, that we're gonna make a real go of trying to build a company together, that's kind of the trigger for when you start making things real by getting sort of the legal, corporation and paperwork done.\n",
      "2364\n",
      "5643\n"
     ]
    }
   ],
   "source": [
    "print(final_summarizor)\n",
    "print(len(reference_summary))\n",
    "print(len(final_summarizor))"
   ]
  },
  {
   "cell_type": "code",
   "execution_count": 29,
   "id": "9a5eeeb0",
   "metadata": {},
   "outputs": [
    {
     "data": {
      "text/plain": [
       "[{'rouge-1': {'r': 0.5429864253393665,\n",
       "   'p': 0.32171581769436997,\n",
       "   'f': 0.4040403993678083},\n",
       "  'rouge-2': {'r': 0.23896103896103896,\n",
       "   'p': 0.10538373424971363,\n",
       "   'f': 0.14626390672219272},\n",
       "  'rouge-l': {'r': 0.46153846153846156,\n",
       "   'p': 0.2734584450402145,\n",
       "   'f': 0.3434343387617477}}]"
      ]
     },
     "execution_count": 29,
     "metadata": {},
     "output_type": "execute_result"
    }
   ],
   "source": [
    "r = Rouge()\n",
    "r.get_scores(final_summarizor,reference_summary)"
   ]
  },
  {
   "cell_type": "code",
   "execution_count": 32,
   "id": "581a42f1",
   "metadata": {},
   "outputs": [
    {
     "data": {
      "text/plain": [
       "[{'rouge-1': {'r': 0.47058823529411764,\n",
       "   'p': 0.3649122807017544,\n",
       "   'f': 0.41106718875587817},\n",
       "  'rouge-2': {'r': 0.15844155844155844,\n",
       "   'p': 0.12978723404255318,\n",
       "   'f': 0.14269005352894926},\n",
       "  'rouge-l': {'r': 0.4298642533936652,\n",
       "   'p': 0.3333333333333333,\n",
       "   'f': 0.3754940662262338}}]"
      ]
     },
     "execution_count": 32,
     "metadata": {},
     "output_type": "execute_result"
    }
   ],
   "source": [
    "r = Rouge()\n",
    "r.get_scores(final_summary_sntences,reference_summary)"
   ]
  },
  {
   "cell_type": "code",
   "execution_count": null,
   "id": "c12e9433",
   "metadata": {},
   "outputs": [],
   "source": []
  }
 ],
 "metadata": {
  "kernelspec": {
   "display_name": "Python 3",
   "language": "python",
   "name": "python3"
  },
  "language_info": {
   "codemirror_mode": {
    "name": "ipython",
    "version": 3
   },
   "file_extension": ".py",
   "mimetype": "text/x-python",
   "name": "python",
   "nbconvert_exporter": "python",
   "pygments_lexer": "ipython3",
   "version": "3.8.8"
  }
 },
 "nbformat": 4,
 "nbformat_minor": 5
}
