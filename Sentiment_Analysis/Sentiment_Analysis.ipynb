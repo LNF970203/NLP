{
  "cells": [
    {
      "cell_type": "code",
      "execution_count": null,
      "metadata": {
        "id": "b7JXi6DWYuSm"
      },
      "outputs": [],
      "source": [
        "!python -m spacy download en_core_web_sm"
      ]
    },
    {
      "cell_type": "code",
      "execution_count": null,
      "metadata": {
        "id": "-vj7TmsFiVcG"
      },
      "outputs": [],
      "source": [
        "import pandas as pd\n",
        "import numpy as np\n",
        "import seaborn as sns\n",
        "import matplotlib.pyplot as plt\n",
        "from google.colab import drive\n",
        "from sklearn.preprocessing import LabelEncoder\n",
        "from sklearn.model_selection import train_test_split\n",
        "from tensorflow import keras\n",
        "from tensorflow.keras.preprocessing.text import Tokenizer\n",
        "from tensorflow.keras.preprocessing.sequence import pad_sequences\n",
        "import spacy\n",
        "import nltk\n",
        "import en_core_web_sm"
      ]
    },
    {
      "cell_type": "code",
      "execution_count": null,
      "metadata": {
        "id": "fD5XuSqeZFCS"
      },
      "outputs": [],
      "source": [
        "nlp = spacy.load('en_core_web_sm')"
      ]
    },
    {
      "cell_type": "code",
      "execution_count": null,
      "metadata": {
        "colab": {
          "base_uri": "https://localhost:8080/"
        },
        "id": "NjpxZOacimWY",
        "outputId": "4a47abe8-525c-4840-d036-9bf7751d1720"
      },
      "outputs": [
        {
          "output_type": "stream",
          "name": "stdout",
          "text": [
            "Drive already mounted at /content/drive; to attempt to forcibly remount, call drive.mount(\"/content/drive\", force_remount=True).\n"
          ]
        }
      ],
      "source": [
        "drive.mount(\"/content/drive\")"
      ]
    },
    {
      "cell_type": "code",
      "execution_count": null,
      "metadata": {
        "id": "Lt0ZaxYOjBdw"
      },
      "outputs": [],
      "source": [
        "data = pd.read_csv(\"/content/drive/MyDrive/Colab Notebooks/combined_tweets_data.csv\")"
      ]
    },
    {
      "cell_type": "code",
      "execution_count": null,
      "metadata": {
        "colab": {
          "base_uri": "https://localhost:8080/",
          "height": 337
        },
        "id": "nm15C-lqkcTX",
        "outputId": "fa51003f-0a2f-4c37-db11-8fa7616d1838"
      },
      "outputs": [
        {
          "output_type": "execute_result",
          "data": {
            "text/html": [
              "\n",
              "  <div id=\"df-c2ef3e44-86c7-4991-a618-cf8a9cc152c1\">\n",
              "    <div class=\"colab-df-container\">\n",
              "      <div>\n",
              "<style scoped>\n",
              "    .dataframe tbody tr th:only-of-type {\n",
              "        vertical-align: middle;\n",
              "    }\n",
              "\n",
              "    .dataframe tbody tr th {\n",
              "        vertical-align: top;\n",
              "    }\n",
              "\n",
              "    .dataframe thead th {\n",
              "        text-align: right;\n",
              "    }\n",
              "</style>\n",
              "<table border=\"1\" class=\"dataframe\">\n",
              "  <thead>\n",
              "    <tr style=\"text-align: right;\">\n",
              "      <th></th>\n",
              "      <th>tweet_content</th>\n",
              "      <th>labels_zero_shot</th>\n",
              "      <th>respective_scores</th>\n",
              "      <th>best_labels_scores</th>\n",
              "      <th>best_labels</th>\n",
              "      <th>sentiments_one_shot_classifier_score</th>\n",
              "      <th>sentiments_one_shot_classifier</th>\n",
              "      <th>sentiment_via_VADER</th>\n",
              "    </tr>\n",
              "  </thead>\n",
              "  <tbody>\n",
              "    <tr>\n",
              "      <th>0</th>\n",
              "      <td>pathetic still think take piss counselling</td>\n",
              "      <td>['sad', 'anger', 'panic', 'brave', 'happy']</td>\n",
              "      <td>[0.9776253700256348, 0.010648265480995178, 0.0...</td>\n",
              "      <td>0.977625</td>\n",
              "      <td>sad</td>\n",
              "      <td>0.998147</td>\n",
              "      <td>negative</td>\n",
              "      <td>negative</td>\n",
              "    </tr>\n",
              "    <tr>\n",
              "      <th>1</th>\n",
              "      <td>view forget selfcare sunrise metier counsellin...</td>\n",
              "      <td>['happy', 'brave', 'panic', 'anger', 'sad']</td>\n",
              "      <td>[0.971422553062439, 0.020104505121707916, 0.00...</td>\n",
              "      <td>0.971423</td>\n",
              "      <td>happy</td>\n",
              "      <td>0.995800</td>\n",
              "      <td>positive</td>\n",
              "      <td>negative</td>\n",
              "    </tr>\n",
              "    <tr>\n",
              "      <th>2</th>\n",
              "      <td>work hard achieve goal reward favourite posses...</td>\n",
              "      <td>['happy', 'brave', 'panic', 'sad', 'anger']</td>\n",
              "      <td>[0.41082775592803955, 0.31598541140556335, 0.1...</td>\n",
              "      <td>0.410828</td>\n",
              "      <td>happy</td>\n",
              "      <td>0.936278</td>\n",
              "      <td>positive</td>\n",
              "      <td>positive</td>\n",
              "    </tr>\n",
              "    <tr>\n",
              "      <th>3</th>\n",
              "      <td>thing grateful count live unit able work home ...</td>\n",
              "      <td>['happy', 'brave', 'panic', 'sad', 'anger']</td>\n",
              "      <td>[0.581499457359314, 0.3123384118080139, 0.0440...</td>\n",
              "      <td>0.581499</td>\n",
              "      <td>happy</td>\n",
              "      <td>0.962516</td>\n",
              "      <td>positive</td>\n",
              "      <td>positive</td>\n",
              "    </tr>\n",
              "    <tr>\n",
              "      <th>4</th>\n",
              "      <td>thing grateful tough year relationship work ho...</td>\n",
              "      <td>['brave', 'sad', 'panic', 'happy', 'anger']</td>\n",
              "      <td>[0.4356525242328644, 0.2900204360485077, 0.145...</td>\n",
              "      <td>0.435653</td>\n",
              "      <td>brave</td>\n",
              "      <td>0.551461</td>\n",
              "      <td>positive</td>\n",
              "      <td>positive</td>\n",
              "    </tr>\n",
              "  </tbody>\n",
              "</table>\n",
              "</div>\n",
              "      <button class=\"colab-df-convert\" onclick=\"convertToInteractive('df-c2ef3e44-86c7-4991-a618-cf8a9cc152c1')\"\n",
              "              title=\"Convert this dataframe to an interactive table.\"\n",
              "              style=\"display:none;\">\n",
              "        \n",
              "  <svg xmlns=\"http://www.w3.org/2000/svg\" height=\"24px\"viewBox=\"0 0 24 24\"\n",
              "       width=\"24px\">\n",
              "    <path d=\"M0 0h24v24H0V0z\" fill=\"none\"/>\n",
              "    <path d=\"M18.56 5.44l.94 2.06.94-2.06 2.06-.94-2.06-.94-.94-2.06-.94 2.06-2.06.94zm-11 1L8.5 8.5l.94-2.06 2.06-.94-2.06-.94L8.5 2.5l-.94 2.06-2.06.94zm10 10l.94 2.06.94-2.06 2.06-.94-2.06-.94-.94-2.06-.94 2.06-2.06.94z\"/><path d=\"M17.41 7.96l-1.37-1.37c-.4-.4-.92-.59-1.43-.59-.52 0-1.04.2-1.43.59L10.3 9.45l-7.72 7.72c-.78.78-.78 2.05 0 2.83L4 21.41c.39.39.9.59 1.41.59.51 0 1.02-.2 1.41-.59l7.78-7.78 2.81-2.81c.8-.78.8-2.07 0-2.86zM5.41 20L4 18.59l7.72-7.72 1.47 1.35L5.41 20z\"/>\n",
              "  </svg>\n",
              "      </button>\n",
              "      \n",
              "  <style>\n",
              "    .colab-df-container {\n",
              "      display:flex;\n",
              "      flex-wrap:wrap;\n",
              "      gap: 12px;\n",
              "    }\n",
              "\n",
              "    .colab-df-convert {\n",
              "      background-color: #E8F0FE;\n",
              "      border: none;\n",
              "      border-radius: 50%;\n",
              "      cursor: pointer;\n",
              "      display: none;\n",
              "      fill: #1967D2;\n",
              "      height: 32px;\n",
              "      padding: 0 0 0 0;\n",
              "      width: 32px;\n",
              "    }\n",
              "\n",
              "    .colab-df-convert:hover {\n",
              "      background-color: #E2EBFA;\n",
              "      box-shadow: 0px 1px 2px rgba(60, 64, 67, 0.3), 0px 1px 3px 1px rgba(60, 64, 67, 0.15);\n",
              "      fill: #174EA6;\n",
              "    }\n",
              "\n",
              "    [theme=dark] .colab-df-convert {\n",
              "      background-color: #3B4455;\n",
              "      fill: #D2E3FC;\n",
              "    }\n",
              "\n",
              "    [theme=dark] .colab-df-convert:hover {\n",
              "      background-color: #434B5C;\n",
              "      box-shadow: 0px 1px 3px 1px rgba(0, 0, 0, 0.15);\n",
              "      filter: drop-shadow(0px 1px 2px rgba(0, 0, 0, 0.3));\n",
              "      fill: #FFFFFF;\n",
              "    }\n",
              "  </style>\n",
              "\n",
              "      <script>\n",
              "        const buttonEl =\n",
              "          document.querySelector('#df-c2ef3e44-86c7-4991-a618-cf8a9cc152c1 button.colab-df-convert');\n",
              "        buttonEl.style.display =\n",
              "          google.colab.kernel.accessAllowed ? 'block' : 'none';\n",
              "\n",
              "        async function convertToInteractive(key) {\n",
              "          const element = document.querySelector('#df-c2ef3e44-86c7-4991-a618-cf8a9cc152c1');\n",
              "          const dataTable =\n",
              "            await google.colab.kernel.invokeFunction('convertToInteractive',\n",
              "                                                     [key], {});\n",
              "          if (!dataTable) return;\n",
              "\n",
              "          const docLinkHtml = 'Like what you see? Visit the ' +\n",
              "            '<a target=\"_blank\" href=https://colab.research.google.com/notebooks/data_table.ipynb>data table notebook</a>'\n",
              "            + ' to learn more about interactive tables.';\n",
              "          element.innerHTML = '';\n",
              "          dataTable['output_type'] = 'display_data';\n",
              "          await google.colab.output.renderOutput(dataTable, element);\n",
              "          const docLink = document.createElement('div');\n",
              "          docLink.innerHTML = docLinkHtml;\n",
              "          element.appendChild(docLink);\n",
              "        }\n",
              "      </script>\n",
              "    </div>\n",
              "  </div>\n",
              "  "
            ],
            "text/plain": [
              "                                       tweet_content  ... sentiment_via_VADER\n",
              "0         pathetic still think take piss counselling  ...            negative\n",
              "1  view forget selfcare sunrise metier counsellin...  ...            negative\n",
              "2  work hard achieve goal reward favourite posses...  ...            positive\n",
              "3  thing grateful count live unit able work home ...  ...            positive\n",
              "4  thing grateful tough year relationship work ho...  ...            positive\n",
              "\n",
              "[5 rows x 8 columns]"
            ]
          },
          "metadata": {},
          "execution_count": 5
        }
      ],
      "source": [
        "data.head()"
      ]
    },
    {
      "cell_type": "code",
      "execution_count": null,
      "metadata": {
        "id": "a-WURAAckeLe"
      },
      "outputs": [],
      "source": [
        "data = data[['tweet_content',\"sentiments_one_shot_classifier\"]]"
      ]
    },
    {
      "cell_type": "code",
      "execution_count": null,
      "metadata": {
        "colab": {
          "base_uri": "https://localhost:8080/",
          "height": 206
        },
        "id": "W7ZHH4IFk4WZ",
        "outputId": "52c2f0c2-d414-49c3-dd94-39a5b9d1179c"
      },
      "outputs": [
        {
          "output_type": "execute_result",
          "data": {
            "text/html": [
              "\n",
              "  <div id=\"df-37647486-c88c-4f77-a82c-bb6e68f6277b\">\n",
              "    <div class=\"colab-df-container\">\n",
              "      <div>\n",
              "<style scoped>\n",
              "    .dataframe tbody tr th:only-of-type {\n",
              "        vertical-align: middle;\n",
              "    }\n",
              "\n",
              "    .dataframe tbody tr th {\n",
              "        vertical-align: top;\n",
              "    }\n",
              "\n",
              "    .dataframe thead th {\n",
              "        text-align: right;\n",
              "    }\n",
              "</style>\n",
              "<table border=\"1\" class=\"dataframe\">\n",
              "  <thead>\n",
              "    <tr style=\"text-align: right;\">\n",
              "      <th></th>\n",
              "      <th>tweet_content</th>\n",
              "      <th>sentiments_one_shot_classifier</th>\n",
              "    </tr>\n",
              "  </thead>\n",
              "  <tbody>\n",
              "    <tr>\n",
              "      <th>0</th>\n",
              "      <td>pathetic still think take piss counselling</td>\n",
              "      <td>negative</td>\n",
              "    </tr>\n",
              "    <tr>\n",
              "      <th>1</th>\n",
              "      <td>view forget selfcare sunrise metier counsellin...</td>\n",
              "      <td>positive</td>\n",
              "    </tr>\n",
              "    <tr>\n",
              "      <th>2</th>\n",
              "      <td>work hard achieve goal reward favourite posses...</td>\n",
              "      <td>positive</td>\n",
              "    </tr>\n",
              "    <tr>\n",
              "      <th>3</th>\n",
              "      <td>thing grateful count live unit able work home ...</td>\n",
              "      <td>positive</td>\n",
              "    </tr>\n",
              "    <tr>\n",
              "      <th>4</th>\n",
              "      <td>thing grateful tough year relationship work ho...</td>\n",
              "      <td>positive</td>\n",
              "    </tr>\n",
              "  </tbody>\n",
              "</table>\n",
              "</div>\n",
              "      <button class=\"colab-df-convert\" onclick=\"convertToInteractive('df-37647486-c88c-4f77-a82c-bb6e68f6277b')\"\n",
              "              title=\"Convert this dataframe to an interactive table.\"\n",
              "              style=\"display:none;\">\n",
              "        \n",
              "  <svg xmlns=\"http://www.w3.org/2000/svg\" height=\"24px\"viewBox=\"0 0 24 24\"\n",
              "       width=\"24px\">\n",
              "    <path d=\"M0 0h24v24H0V0z\" fill=\"none\"/>\n",
              "    <path d=\"M18.56 5.44l.94 2.06.94-2.06 2.06-.94-2.06-.94-.94-2.06-.94 2.06-2.06.94zm-11 1L8.5 8.5l.94-2.06 2.06-.94-2.06-.94L8.5 2.5l-.94 2.06-2.06.94zm10 10l.94 2.06.94-2.06 2.06-.94-2.06-.94-.94-2.06-.94 2.06-2.06.94z\"/><path d=\"M17.41 7.96l-1.37-1.37c-.4-.4-.92-.59-1.43-.59-.52 0-1.04.2-1.43.59L10.3 9.45l-7.72 7.72c-.78.78-.78 2.05 0 2.83L4 21.41c.39.39.9.59 1.41.59.51 0 1.02-.2 1.41-.59l7.78-7.78 2.81-2.81c.8-.78.8-2.07 0-2.86zM5.41 20L4 18.59l7.72-7.72 1.47 1.35L5.41 20z\"/>\n",
              "  </svg>\n",
              "      </button>\n",
              "      \n",
              "  <style>\n",
              "    .colab-df-container {\n",
              "      display:flex;\n",
              "      flex-wrap:wrap;\n",
              "      gap: 12px;\n",
              "    }\n",
              "\n",
              "    .colab-df-convert {\n",
              "      background-color: #E8F0FE;\n",
              "      border: none;\n",
              "      border-radius: 50%;\n",
              "      cursor: pointer;\n",
              "      display: none;\n",
              "      fill: #1967D2;\n",
              "      height: 32px;\n",
              "      padding: 0 0 0 0;\n",
              "      width: 32px;\n",
              "    }\n",
              "\n",
              "    .colab-df-convert:hover {\n",
              "      background-color: #E2EBFA;\n",
              "      box-shadow: 0px 1px 2px rgba(60, 64, 67, 0.3), 0px 1px 3px 1px rgba(60, 64, 67, 0.15);\n",
              "      fill: #174EA6;\n",
              "    }\n",
              "\n",
              "    [theme=dark] .colab-df-convert {\n",
              "      background-color: #3B4455;\n",
              "      fill: #D2E3FC;\n",
              "    }\n",
              "\n",
              "    [theme=dark] .colab-df-convert:hover {\n",
              "      background-color: #434B5C;\n",
              "      box-shadow: 0px 1px 3px 1px rgba(0, 0, 0, 0.15);\n",
              "      filter: drop-shadow(0px 1px 2px rgba(0, 0, 0, 0.3));\n",
              "      fill: #FFFFFF;\n",
              "    }\n",
              "  </style>\n",
              "\n",
              "      <script>\n",
              "        const buttonEl =\n",
              "          document.querySelector('#df-37647486-c88c-4f77-a82c-bb6e68f6277b button.colab-df-convert');\n",
              "        buttonEl.style.display =\n",
              "          google.colab.kernel.accessAllowed ? 'block' : 'none';\n",
              "\n",
              "        async function convertToInteractive(key) {\n",
              "          const element = document.querySelector('#df-37647486-c88c-4f77-a82c-bb6e68f6277b');\n",
              "          const dataTable =\n",
              "            await google.colab.kernel.invokeFunction('convertToInteractive',\n",
              "                                                     [key], {});\n",
              "          if (!dataTable) return;\n",
              "\n",
              "          const docLinkHtml = 'Like what you see? Visit the ' +\n",
              "            '<a target=\"_blank\" href=https://colab.research.google.com/notebooks/data_table.ipynb>data table notebook</a>'\n",
              "            + ' to learn more about interactive tables.';\n",
              "          element.innerHTML = '';\n",
              "          dataTable['output_type'] = 'display_data';\n",
              "          await google.colab.output.renderOutput(dataTable, element);\n",
              "          const docLink = document.createElement('div');\n",
              "          docLink.innerHTML = docLinkHtml;\n",
              "          element.appendChild(docLink);\n",
              "        }\n",
              "      </script>\n",
              "    </div>\n",
              "  </div>\n",
              "  "
            ],
            "text/plain": [
              "                                       tweet_content sentiments_one_shot_classifier\n",
              "0         pathetic still think take piss counselling                       negative\n",
              "1  view forget selfcare sunrise metier counsellin...                       positive\n",
              "2  work hard achieve goal reward favourite posses...                       positive\n",
              "3  thing grateful count live unit able work home ...                       positive\n",
              "4  thing grateful tough year relationship work ho...                       positive"
            ]
          },
          "metadata": {},
          "execution_count": 7
        }
      ],
      "source": [
        "data.head()"
      ]
    },
    {
      "cell_type": "code",
      "execution_count": null,
      "metadata": {
        "id": "uIwg-9gfk5rN"
      },
      "outputs": [],
      "source": [
        "lecd = LabelEncoder()"
      ]
    },
    {
      "cell_type": "code",
      "execution_count": null,
      "metadata": {
        "id": "-2mYFypll1rt"
      },
      "outputs": [],
      "source": [
        "#Label Encoding the data\n",
        "data['sentiments_one_shot_classifier'] = lecd.fit_transform(data['sentiments_one_shot_classifier'])"
      ]
    },
    {
      "cell_type": "code",
      "execution_count": null,
      "metadata": {
        "colab": {
          "base_uri": "https://localhost:8080/",
          "height": 206
        },
        "id": "Ygf5ycMfm339",
        "outputId": "c7021ee9-536f-479d-c9f8-42edbc311ca2"
      },
      "outputs": [
        {
          "output_type": "execute_result",
          "data": {
            "text/html": [
              "\n",
              "  <div id=\"df-59e0f349-525f-41a5-a9a5-e616ac3464df\">\n",
              "    <div class=\"colab-df-container\">\n",
              "      <div>\n",
              "<style scoped>\n",
              "    .dataframe tbody tr th:only-of-type {\n",
              "        vertical-align: middle;\n",
              "    }\n",
              "\n",
              "    .dataframe tbody tr th {\n",
              "        vertical-align: top;\n",
              "    }\n",
              "\n",
              "    .dataframe thead th {\n",
              "        text-align: right;\n",
              "    }\n",
              "</style>\n",
              "<table border=\"1\" class=\"dataframe\">\n",
              "  <thead>\n",
              "    <tr style=\"text-align: right;\">\n",
              "      <th></th>\n",
              "      <th>tweet_content</th>\n",
              "      <th>sentiments_one_shot_classifier</th>\n",
              "    </tr>\n",
              "  </thead>\n",
              "  <tbody>\n",
              "    <tr>\n",
              "      <th>0</th>\n",
              "      <td>pathetic still think take piss counselling</td>\n",
              "      <td>0</td>\n",
              "    </tr>\n",
              "    <tr>\n",
              "      <th>1</th>\n",
              "      <td>view forget selfcare sunrise metier counsellin...</td>\n",
              "      <td>1</td>\n",
              "    </tr>\n",
              "    <tr>\n",
              "      <th>2</th>\n",
              "      <td>work hard achieve goal reward favourite posses...</td>\n",
              "      <td>1</td>\n",
              "    </tr>\n",
              "    <tr>\n",
              "      <th>3</th>\n",
              "      <td>thing grateful count live unit able work home ...</td>\n",
              "      <td>1</td>\n",
              "    </tr>\n",
              "    <tr>\n",
              "      <th>4</th>\n",
              "      <td>thing grateful tough year relationship work ho...</td>\n",
              "      <td>1</td>\n",
              "    </tr>\n",
              "  </tbody>\n",
              "</table>\n",
              "</div>\n",
              "      <button class=\"colab-df-convert\" onclick=\"convertToInteractive('df-59e0f349-525f-41a5-a9a5-e616ac3464df')\"\n",
              "              title=\"Convert this dataframe to an interactive table.\"\n",
              "              style=\"display:none;\">\n",
              "        \n",
              "  <svg xmlns=\"http://www.w3.org/2000/svg\" height=\"24px\"viewBox=\"0 0 24 24\"\n",
              "       width=\"24px\">\n",
              "    <path d=\"M0 0h24v24H0V0z\" fill=\"none\"/>\n",
              "    <path d=\"M18.56 5.44l.94 2.06.94-2.06 2.06-.94-2.06-.94-.94-2.06-.94 2.06-2.06.94zm-11 1L8.5 8.5l.94-2.06 2.06-.94-2.06-.94L8.5 2.5l-.94 2.06-2.06.94zm10 10l.94 2.06.94-2.06 2.06-.94-2.06-.94-.94-2.06-.94 2.06-2.06.94z\"/><path d=\"M17.41 7.96l-1.37-1.37c-.4-.4-.92-.59-1.43-.59-.52 0-1.04.2-1.43.59L10.3 9.45l-7.72 7.72c-.78.78-.78 2.05 0 2.83L4 21.41c.39.39.9.59 1.41.59.51 0 1.02-.2 1.41-.59l7.78-7.78 2.81-2.81c.8-.78.8-2.07 0-2.86zM5.41 20L4 18.59l7.72-7.72 1.47 1.35L5.41 20z\"/>\n",
              "  </svg>\n",
              "      </button>\n",
              "      \n",
              "  <style>\n",
              "    .colab-df-container {\n",
              "      display:flex;\n",
              "      flex-wrap:wrap;\n",
              "      gap: 12px;\n",
              "    }\n",
              "\n",
              "    .colab-df-convert {\n",
              "      background-color: #E8F0FE;\n",
              "      border: none;\n",
              "      border-radius: 50%;\n",
              "      cursor: pointer;\n",
              "      display: none;\n",
              "      fill: #1967D2;\n",
              "      height: 32px;\n",
              "      padding: 0 0 0 0;\n",
              "      width: 32px;\n",
              "    }\n",
              "\n",
              "    .colab-df-convert:hover {\n",
              "      background-color: #E2EBFA;\n",
              "      box-shadow: 0px 1px 2px rgba(60, 64, 67, 0.3), 0px 1px 3px 1px rgba(60, 64, 67, 0.15);\n",
              "      fill: #174EA6;\n",
              "    }\n",
              "\n",
              "    [theme=dark] .colab-df-convert {\n",
              "      background-color: #3B4455;\n",
              "      fill: #D2E3FC;\n",
              "    }\n",
              "\n",
              "    [theme=dark] .colab-df-convert:hover {\n",
              "      background-color: #434B5C;\n",
              "      box-shadow: 0px 1px 3px 1px rgba(0, 0, 0, 0.15);\n",
              "      filter: drop-shadow(0px 1px 2px rgba(0, 0, 0, 0.3));\n",
              "      fill: #FFFFFF;\n",
              "    }\n",
              "  </style>\n",
              "\n",
              "      <script>\n",
              "        const buttonEl =\n",
              "          document.querySelector('#df-59e0f349-525f-41a5-a9a5-e616ac3464df button.colab-df-convert');\n",
              "        buttonEl.style.display =\n",
              "          google.colab.kernel.accessAllowed ? 'block' : 'none';\n",
              "\n",
              "        async function convertToInteractive(key) {\n",
              "          const element = document.querySelector('#df-59e0f349-525f-41a5-a9a5-e616ac3464df');\n",
              "          const dataTable =\n",
              "            await google.colab.kernel.invokeFunction('convertToInteractive',\n",
              "                                                     [key], {});\n",
              "          if (!dataTable) return;\n",
              "\n",
              "          const docLinkHtml = 'Like what you see? Visit the ' +\n",
              "            '<a target=\"_blank\" href=https://colab.research.google.com/notebooks/data_table.ipynb>data table notebook</a>'\n",
              "            + ' to learn more about interactive tables.';\n",
              "          element.innerHTML = '';\n",
              "          dataTable['output_type'] = 'display_data';\n",
              "          await google.colab.output.renderOutput(dataTable, element);\n",
              "          const docLink = document.createElement('div');\n",
              "          docLink.innerHTML = docLinkHtml;\n",
              "          element.appendChild(docLink);\n",
              "        }\n",
              "      </script>\n",
              "    </div>\n",
              "  </div>\n",
              "  "
            ],
            "text/plain": [
              "                                       tweet_content  sentiments_one_shot_classifier\n",
              "0         pathetic still think take piss counselling                               0\n",
              "1  view forget selfcare sunrise metier counsellin...                               1\n",
              "2  work hard achieve goal reward favourite posses...                               1\n",
              "3  thing grateful count live unit able work home ...                               1\n",
              "4  thing grateful tough year relationship work ho...                               1"
            ]
          },
          "metadata": {},
          "execution_count": 10
        }
      ],
      "source": [
        "data.head()"
      ]
    },
    {
      "cell_type": "code",
      "execution_count": null,
      "metadata": {
        "colab": {
          "base_uri": "https://localhost:8080/"
        },
        "id": "GRRGdeF-m-z9",
        "outputId": "39316a7b-9119-4285-a1ed-f6d2efe3db84"
      },
      "outputs": [
        {
          "output_type": "execute_result",
          "data": {
            "text/plain": [
              "(231023, 2)"
            ]
          },
          "metadata": {},
          "execution_count": 11
        }
      ],
      "source": [
        "data.shape"
      ]
    },
    {
      "cell_type": "code",
      "execution_count": null,
      "metadata": {
        "colab": {
          "base_uri": "https://localhost:8080/"
        },
        "id": "VUBqw-bw_uhd",
        "outputId": "f64add12-c603-4d90-863e-1dd118f9cb5d"
      },
      "outputs": [
        {
          "output_type": "execute_result",
          "data": {
            "text/plain": [
              "tweet_content                     5139\n",
              "sentiments_one_shot_classifier       0\n",
              "dtype: int64"
            ]
          },
          "metadata": {},
          "execution_count": 12
        }
      ],
      "source": [
        "data.isnull().sum()"
      ]
    },
    {
      "cell_type": "code",
      "execution_count": null,
      "metadata": {
        "id": "dDct-fuX_y-b"
      },
      "outputs": [],
      "source": [
        "#Removing NAN values\n",
        "data.dropna(how='any', inplace=True)"
      ]
    },
    {
      "cell_type": "code",
      "execution_count": null,
      "metadata": {
        "colab": {
          "base_uri": "https://localhost:8080/"
        },
        "id": "4j2sIr7w_9hh",
        "outputId": "9d10cdb6-041c-4e7d-e637-4658bc110c82"
      },
      "outputs": [
        {
          "output_type": "execute_result",
          "data": {
            "text/plain": [
              "(225884, 2)"
            ]
          },
          "metadata": {},
          "execution_count": 14
        }
      ],
      "source": [
        "data.shape"
      ]
    },
    {
      "cell_type": "code",
      "execution_count": null,
      "metadata": {
        "id": "LYXewj9xnXd9"
      },
      "outputs": [],
      "source": [
        "x = data['tweet_content']\n",
        "y = data['sentiments_one_shot_classifier']"
      ]
    },
    {
      "cell_type": "code",
      "execution_count": null,
      "metadata": {
        "id": "OEpgvKSzoYiJ"
      },
      "outputs": [],
      "source": [
        "#Training and validation data sets\n",
        "x_train,x_test,y_train,y_test = train_test_split(x,y, test_size=0.2, random_state=0)"
      ]
    },
    {
      "cell_type": "code",
      "execution_count": null,
      "metadata": {
        "id": "Su1lblleomKO"
      },
      "outputs": [],
      "source": [
        "#Series to list to apply tokenizers\n",
        "x_train, x_test = x_train.to_list(), x_test.to_list()"
      ]
    },
    {
      "cell_type": "code",
      "execution_count": null,
      "metadata": {
        "id": "IEVFNQ3IYc1o"
      },
      "outputs": [],
      "source": [
        "def preprocessing(sentences):\n",
        "  tokens = []\n",
        "  tokens = [token.text for token in nlp(sentences) if not token.is_stop]\n",
        "  tokens = ' '.join(tokens)\n",
        "  return tokens"
      ]
    },
    {
      "cell_type": "code",
      "execution_count": null,
      "metadata": {
        "colab": {
          "base_uri": "https://localhost:8080/"
        },
        "id": "AqaBzKOTZ6xC",
        "outputId": "84e4d9f1-eb6b-4a15-ccc6-44e2db078bc7"
      },
      "outputs": [
        {
          "output_type": "stream",
          "name": "stdout",
          "text": [
            "CPU times: user 19min 4s, sys: 3.16 s, total: 19min 7s\n",
            "Wall time: 19min 4s\n"
          ]
        }
      ],
      "source": [
        "%%time\n",
        "x_train = list(map(preprocessing, x_train))"
      ]
    },
    {
      "cell_type": "code",
      "execution_count": null,
      "metadata": {
        "colab": {
          "base_uri": "https://localhost:8080/"
        },
        "id": "mnfeoFsehjFp",
        "outputId": "e12d245e-bb90-4489-b01f-90c996b6a404"
      },
      "outputs": [
        {
          "output_type": "stream",
          "name": "stdout",
          "text": [
            "CPU times: user 4min 39s, sys: 758 ms, total: 4min 39s\n",
            "Wall time: 4min 39s\n"
          ]
        }
      ],
      "source": [
        "%%time\n",
        "x_test = list(map(preprocessing,x_test))"
      ]
    },
    {
      "cell_type": "code",
      "execution_count": null,
      "metadata": {
        "id": "qvxHbZvapguF"
      },
      "outputs": [],
      "source": [
        "# #Tokenizing the data\n",
        "# vocab_size = 100000\n",
        "# embedded_dim = 16\n",
        "# trunc_type = 'post'\n",
        "# oov_tok = '<UKN>'\n",
        "# max_length = 40\n",
        "\n",
        "# #Tokenizing training set\n",
        "# tokenizer = Tokenizer(num_words=vocab_size,oov_token=oov_tok)\n",
        "# tokenizer.fit_on_texts(x_train)\n",
        "# word_index = tokenizer.word_index\n",
        "# #print(word_index)\n",
        "# sequences = tokenizer.texts_to_sequences(x_train)\n",
        "# train_padded = pad_sequences(sequences, truncating=trunc_type, maxlen=max_length)\n",
        "\n",
        "# #Tokenizng validation test\n",
        "# testing_sequences = tokenizer.texts_to_sequences(x_test)\n",
        "# test_padded = pad_sequences(testing_sequences, truncating=trunc_type, maxlen = max_length)"
      ]
    },
    {
      "cell_type": "markdown",
      "metadata": {
        "id": "U44ACuLk41lY"
      },
      "source": [
        "**DNN Network**"
      ]
    },
    {
      "cell_type": "code",
      "execution_count": null,
      "metadata": {
        "id": "BebGRiFRAN_Z"
      },
      "outputs": [],
      "source": [
        "# model = keras.Sequential()\n",
        "# model.add(keras.layers.Embedding(vocab_size,embedded_dim, input_length = max_length ))\n",
        "# model.add(keras.layers.Flatten())\n",
        "# model.add(keras.layers.Dense(6, activation = 'relu'))\n",
        "# model.add(keras.layers.Dropout(0.2))\n",
        "# model.add(keras.layers.Dense(1, activation = 'sigmoid'))\n",
        "\n",
        "\n",
        "# model.summary()\n",
        "# model.compile(loss = 'binary_crossentropy', optimizer = keras.optimizers.Adam(), metrics = ['acc'])\n",
        "# model_fit = model.fit(train_padded,y_train, epochs = 10, validation_data = (test_padded, y_test))\n",
        "# pd.DataFrame(model_fit.history).plot(figsize=(8,8))\n",
        "# plt.grid(True)"
      ]
    },
    {
      "cell_type": "markdown",
      "metadata": {
        "id": "kwUTiaEMYvmo"
      },
      "source": [
        "###RNN_Network class for many classificatiobs"
      ]
    },
    {
      "cell_type": "code",
      "execution_count": null,
      "metadata": {
        "id": "52MCUzWQ569V"
      },
      "outputs": [],
      "source": [
        "#class to run many objects\n",
        "class RNN_Network:\n",
        "  def __init__(self, train_text,test_text,train_labels,test_labels):\n",
        "    self.train_text = train_text\n",
        "    self.test_text = test_text\n",
        "    self.train_labels = train_labels\n",
        "    self.test_labels = test_labels\n",
        "\n",
        "\n",
        "    #tokenizing\n",
        "    self.__vocab_size = 50000\n",
        "    self.__embedded_dim = 16\n",
        "    trunc_type = 'post'\n",
        "    oov_tok = '<UKN>'\n",
        "    self.__max_length = 50\n",
        "\n",
        "    #tokenizing the training set\n",
        "    tokenizer = Tokenizer(num_words=self.__vocab_size,oov_token=oov_tok)\n",
        "    tokenizer.fit_on_texts(self.train_text)\n",
        "    sequences = tokenizer.texts_to_sequences(self.train_text)\n",
        "    self.train_padded = pad_sequences(sequences, truncating=trunc_type, maxlen=self.__max_length)\n",
        "\n",
        "    #toknizing the testing set\n",
        "    testing_sequence = tokenizer.texts_to_sequences(self.test_text)\n",
        "    self.test_padded = pad_sequences(testing_sequence, truncating = trunc_type, maxlen = self.__max_length)\n",
        "\n",
        "  def Model_compiling_and_fitting(self, \n",
        "                                  epochs,\n",
        "                                  loss_fun = 'binary_crossentropy',\n",
        "                                  optimizer = keras.optimizers.Adam(), \n",
        "                                  Dropout = False ,\n",
        "                                  DNN = False,\n",
        "                                  Global_Average_Pooling = False, \n",
        "                                  Single_Layer_LSTM = False,\n",
        "                                  Multi_Layer_LSTM = False,\n",
        "                                  Single_GRU = False,\n",
        "                                  Multi_Layer_GRU = False,\n",
        "                                  save_model = False):\n",
        "    \"\"\"\n",
        "    Different RNN networks can be run through the method.\n",
        "    ---- To run other models, make the boolean expression True only for one network\n",
        "        (DNN, Gloabl_Ayerage_pooling, single_layer_lstm,multi_layer_lstm,single_gru,multi_layer_gru)\n",
        "    ---- epochs, loss function can be selected as the preference\n",
        "    \"\"\"\n",
        "    #DNN Network(Done)\n",
        "    if DNN:\n",
        "      if Dropout:\n",
        "        model = keras.Sequential()\n",
        "        model.add(keras.layers.Embedding(self.__vocab_size,self.__embedded_dim, input_length = self.__max_length ))\n",
        "        model.add(keras.layers.Flatten())\n",
        "        model.add(keras.layers.Dense(32, activation = 'relu'))\n",
        "        model.add(keras.layers.Dropout(0.2))\n",
        "        model.add(keras.layers.Dense(1, activation = 'sigmoid'))\n",
        "      else:\n",
        "        model = keras.Sequential()\n",
        "        model.add(keras.layers.Embedding(self.__vocab_size,self.__embedded_dim, input_length = self.__max_length ))\n",
        "        model.add(keras.layers.Flatten())\n",
        "        model.add(keras.layers.Dense(32, activation = 'relu'))\n",
        "        model.add(keras.layers.Dense(32, activation='relu'))\n",
        "        model.add(keras.layers.Dense(1, activation = 'sigmoid'))\n",
        "    \n",
        "\n",
        "    #Gloabl Average Pooling(Test)\n",
        "    if Global_Average_Pooling:\n",
        "      if Dropout:\n",
        "        model = keras.Sequential()\n",
        "        model.add(keras.layers.Embedding(self.__vocab_size,self.__embedded_dim, input_length = self.__max_length ))\n",
        "        model.add(keras.layers.GlobalAveragePooling1D())\n",
        "        #model.add(keras.layers.Dense(32, activation = 'relu'))\n",
        "        model.add(keras.layers.Dropout(0.6))\n",
        "        model.add(keras.layers.Dense(1, activation = 'sigmoid'))\n",
        "      else:\n",
        "        model = keras.Sequential()\n",
        "        model.add(keras.layers.Embedding(self.__vocab_size,self.__embedded_dim, input_length = self.__max_length ))\n",
        "        model.add(keras.layers.GlobalAveragePooling1D())\n",
        "        #model.add(keras.layers.Dense(32, activation = 'relu'))\n",
        "        model.add(keras.layers.Dense(1, activation = 'sigmoid'))\n",
        "\n",
        "\n",
        "\n",
        "\n",
        "    #Single_Layer LSTM network(Done)\n",
        "    if Single_Layer_LSTM:\n",
        "      if Dropout:\n",
        "        model = keras.Sequential()\n",
        "        model.add(keras.layers.Embedding(self.__vocab_size,self.__embedded_dim,input_length=self.__max_length))\n",
        "        model.add(keras.layers.LSTM(16))\n",
        "        #model.add(keras.layers.Dense(32, activation='relu'))\n",
        "        model.add(keras.layers.Dropout(0.5))\n",
        "        model.add(keras.layers.Dense(1, activation='sigmoid'))\n",
        "      else:\n",
        "        model = keras.Sequential()\n",
        "        model.add(keras.layers.Embedding(self.__vocab_size,self.__embedded_dim,input_length=self.__max_length))\n",
        "        model.add(keras.layers.LSTM(64))\n",
        "        model.add(keras.layers.Dense(32, activation='relu'))\n",
        "        model.add(keras.layers.Dense(1, activation='sigmoid'))\n",
        "    \n",
        "    #MultiLayre LSTM\n",
        "    if Multi_Layer_LSTM:\n",
        "      if Dropout:\n",
        "        model = keras.Sequential()\n",
        "        model.add(keras.layers.Embedding(self.__vocab_size,self.__embedded_dim,input_length=self.__max_length))\n",
        "        model.add(keras.layers.LSTM(16, return_sequences= True))\n",
        "        model.add(keras.layers.LSTM(8))\n",
        "        model.add(keras.layers.Dropout(0.6))\n",
        "        #model.add(keras.layers.Dense(32, activation='relu'))\n",
        "        #model.add(keras.layers.Dropout(0.2))\n",
        "        model.add(keras.layers.Dense(1, activation='sigmoid'))\n",
        "      else:\n",
        "        model = keras.Sequential()\n",
        "        model.add(keras.layers.Embedding(self.__vocab_size,self.__embedded_dim,input_length=self.__max_length))\n",
        "        model.add(keras.layers.LSTM(64, return_sequences= True))\n",
        "        model.add(keras.layers.LSTM(32))\n",
        "        model.add(keras.layers.Dense(32, activation='relu'))\n",
        "        model.add(keras.layers.Dense(1, activation='sigmoid'))\n",
        "    #Sinlge GRU_Network\n",
        "    if Single_GRU:\n",
        "      if Dropout:\n",
        "        model = keras.Sequential()\n",
        "        model.add(keras.layers.Embedding(self.__vocab_size,self.__embedded_dim,input_length=self.__max_length))\n",
        "        model.add(keras.layers.GRU(32))\n",
        "        model.add(keras.layers.Dropout(0.6))\n",
        "        #model.add(keras.layers.Dense(32, activation='relu'))\n",
        "        #model.add(keras.layers.Dropout(0.5))\n",
        "        model.add(keras.layers.Dense(1, activation='sigmoid'))\n",
        "      else:\n",
        "        model = keras.Sequential()\n",
        "        model.add(keras.layers.Embedding(self.__vocab_size,self.__embedded_dim,input_length=self.__max_length))\n",
        "        model.add(keras.layers.GRU(64))\n",
        "        #model.add(keras.layers.Dense(32, activation='relu'))\n",
        "        model.add(keras.layers.Dense(1, activation='sigmoid'))\n",
        "    #Multilayer GRU\n",
        "    if Multi_Layer_GRU:\n",
        "      if Dropout:\n",
        "        model = keras.Sequential()\n",
        "        model.add(keras.layers.Embedding(self.__vocab_size,self.__embedded_dim,input_length=self.__max_length))\n",
        "        model.add(keras.layers.Conv1D(32,5, activation='relu'))\n",
        "        model.add(keras.layers.GlobalAveragePooling1D())\n",
        "        #model.add(keras.layers.Dense(32, activation='relu'))\n",
        "        model.add(keras.layers.Dropout(0.5))\n",
        "        model.add(keras.layers.Dense(1, activation='sigmoid'))\n",
        "      else:\n",
        "        model = keras.Sequential()\n",
        "        model.add(keras.layers.Embedding(self.__vocab_size,self.__embedded_dim,input_length=self.__max_length))\n",
        "        model.add(keras.layers.Conv1D(32,5, activation='relu'))\n",
        "        model.add(keras.layers.GlobalAvgPooling1D())\n",
        "        #model.add(keras.layers.Dense(32, activation='relu'))\n",
        "        model.add(keras.layers.Dense(1, activation='sigmoid'))\n",
        "\n",
        "    print(model.summary())\n",
        "    model.compile(loss = loss_fun, optimizer = optimizer, metrics = ['acc'])\n",
        "    self.__train_model = model.fit(self.train_padded, self.train_labels, epochs=epochs, validation_data = (self.test_padded, self.test_labels))\n",
        "\n",
        "    if save_model:\n",
        "      model.save(\"/content/drive/MyDrive/Colab Notebooks/Best_RNN_Model.h5\")\n",
        "\n",
        "    \n",
        "\n",
        "\n",
        "  def visualization(self):\n",
        "    df = pd.DataFrame(self.__train_model.history)\n",
        "    #loss plots\n",
        "    plt.figure(figsize=(8,8))\n",
        "    plt.plot(df['loss'], color='red')\n",
        "    plt.plot(df['val_loss'], color='blue')\n",
        "    plt.legend(['Training Loss','Validation loss'],loc = 'best' )\n",
        "    plt.title('Line plot of Training and Validation loss')\n",
        "    plt.ylim(0,1)\n",
        "    plt.show()\n",
        "\n",
        "    #accuracy plots\n",
        "    plt.figure(figsize=(8,8))\n",
        "    plt.plot(df['acc'], color='red')\n",
        "    plt.plot(df['val_acc'], color='blue')\n",
        "    plt.legend(['Training acc','Validation acc'],loc = 'best' )\n",
        "    plt.title('Line plot of Training and Validation Accuracies')\n",
        "    plt.ylim(0,1)\n",
        "    plt.show()\n",
        "\n",
        "\n"
      ]
    },
    {
      "cell_type": "markdown",
      "metadata": {
        "id": "DgxKP55MkhMk"
      },
      "source": [
        "## Gloabal Average Pooling with droput"
      ]
    },
    {
      "cell_type": "code",
      "execution_count": null,
      "metadata": {
        "id": "Qr4e8QjSx_6K"
      },
      "outputs": [],
      "source": [
        "r1 = RNN_Network(x_train,x_test,y_train,y_test)"
      ]
    },
    {
      "cell_type": "code",
      "execution_count": null,
      "metadata": {
        "colab": {
          "base_uri": "https://localhost:8080/"
        },
        "id": "UXJ1N9gl6s82",
        "outputId": "bc194df2-496c-43fa-98f8-d9b92f7cf698"
      },
      "outputs": [
        {
          "name": "stdout",
          "output_type": "stream",
          "text": [
            "Epoch 1/10\n",
            "5648/5648 [==============================] - 49s 8ms/step - loss: 0.4413 - acc: 0.8027 - val_loss: 0.4058 - val_acc: 0.8206\n",
            "Epoch 2/10\n",
            "5648/5648 [==============================] - 48s 8ms/step - loss: 0.3717 - acc: 0.8405 - val_loss: 0.4042 - val_acc: 0.8209\n",
            "Epoch 3/10\n",
            "5648/5648 [==============================] - 48s 9ms/step - loss: 0.3347 - acc: 0.8587 - val_loss: 0.4167 - val_acc: 0.8182\n",
            "Epoch 4/10\n",
            "5648/5648 [==============================] - 46s 8ms/step - loss: 0.3055 - acc: 0.8738 - val_loss: 0.4252 - val_acc: 0.8145\n",
            "Epoch 5/10\n",
            "5648/5648 [==============================] - 49s 9ms/step - loss: 0.2816 - acc: 0.8864 - val_loss: 0.4482 - val_acc: 0.8069\n",
            "Epoch 6/10\n",
            "5648/5648 [==============================] - 49s 9ms/step - loss: 0.2623 - acc: 0.8953 - val_loss: 0.4661 - val_acc: 0.8040\n",
            "Epoch 7/10\n",
            "5648/5648 [==============================] - 47s 8ms/step - loss: 0.2453 - acc: 0.9027 - val_loss: 0.4856 - val_acc: 0.8016\n",
            "Epoch 8/10\n",
            "5648/5648 [==============================] - 46s 8ms/step - loss: 0.2318 - acc: 0.9089 - val_loss: 0.5100 - val_acc: 0.7947\n",
            "Epoch 9/10\n",
            "5648/5648 [==============================] - 47s 8ms/step - loss: 0.2195 - acc: 0.9139 - val_loss: 0.5257 - val_acc: 0.7921\n",
            "Epoch 10/10\n",
            "5648/5648 [==============================] - 49s 9ms/step - loss: 0.2091 - acc: 0.9184 - val_loss: 0.5411 - val_acc: 0.7922\n"
          ]
        }
      ],
      "source": [
        "r1.Model_compiling_and_fitting(10, Global_Average_Pooling = True, Dropout=True)"
      ]
    },
    {
      "cell_type": "code",
      "execution_count": null,
      "metadata": {
        "colab": {
          "base_uri": "https://localhost:8080/",
          "height": 981
        },
        "id": "0lONgUzI64hU",
        "outputId": "01f8f446-0d09-4aab-b6a8-781fad3f40fe"
      },
      "outputs": [
        {
          "data": {
            "image/png": "[encoded data removed]",
            "text/plain": [
              "<Figure size 576x576 with 1 Axes>"
            ]
          },
          "metadata": {},
          "output_type": "display_data"
        },
        {
          "data": {
            "image/png": "[encoded data removed]",
            "text/plain": [
              "<Figure size 576x576 with 1 Axes>"
            ]
          },
          "metadata": {},
          "output_type": "display_data"
        }
      ],
      "source": [
        "r1.visualization()"
      ]
    },
    {
      "cell_type": "markdown",
      "metadata": {
        "id": "ywQMx7tckqmT"
      },
      "source": [
        "## Gloabal Average Pooling without Dropout"
      ]
    },
    {
      "cell_type": "code",
      "execution_count": null,
      "metadata": {
        "id": "PUu15mj9HbiI"
      },
      "outputs": [],
      "source": [
        "r2 = RNN_Network(x_train,x_test,y_train,y_test)"
      ]
    },
    {
      "cell_type": "code",
      "execution_count": null,
      "metadata": {
        "colab": {
          "base_uri": "https://localhost:8080/"
        },
        "id": "Q0IoUVBiHlbG",
        "outputId": "1ce9d1aa-e5de-421d-b7b3-1966c5e45e8b"
      },
      "outputs": [
        {
          "name": "stdout",
          "output_type": "stream",
          "text": [
            "Epoch 1/10\n",
            "5648/5648 [==============================] - 52s 9ms/step - loss: 0.4354 - acc: 0.8043 - val_loss: 0.4117 - val_acc: 0.8183\n",
            "Epoch 2/10\n",
            "5648/5648 [==============================] - 47s 8ms/step - loss: 0.3824 - acc: 0.8311 - val_loss: 0.4084 - val_acc: 0.8203\n",
            "Epoch 3/10\n",
            "5648/5648 [==============================] - 46s 8ms/step - loss: 0.3553 - acc: 0.8451 - val_loss: 0.4128 - val_acc: 0.8173\n",
            "Epoch 4/10\n",
            "5648/5648 [==============================] - 47s 8ms/step - loss: 0.3306 - acc: 0.8583 - val_loss: 0.4236 - val_acc: 0.8146\n",
            "Epoch 5/10\n",
            "5648/5648 [==============================] - 46s 8ms/step - loss: 0.3097 - acc: 0.8696 - val_loss: 0.4288 - val_acc: 0.8113\n",
            "Epoch 6/10\n",
            "5648/5648 [==============================] - 45s 8ms/step - loss: 0.2912 - acc: 0.8780 - val_loss: 0.4458 - val_acc: 0.8056\n",
            "Epoch 7/10\n",
            "5648/5648 [==============================] - 45s 8ms/step - loss: 0.2735 - acc: 0.8871 - val_loss: 0.4671 - val_acc: 0.8018\n",
            "Epoch 8/10\n",
            "5648/5648 [==============================] - 45s 8ms/step - loss: 0.2568 - acc: 0.8948 - val_loss: 0.4789 - val_acc: 0.7991\n",
            "Epoch 9/10\n",
            "5648/5648 [==============================] - 46s 8ms/step - loss: 0.2418 - acc: 0.9014 - val_loss: 0.4956 - val_acc: 0.7903\n",
            "Epoch 10/10\n",
            "5648/5648 [==============================] - 47s 8ms/step - loss: 0.2274 - acc: 0.9083 - val_loss: 0.5151 - val_acc: 0.7867\n"
          ]
        }
      ],
      "source": [
        "r2.Model_compiling_and_fitting(epochs=10, Global_Average_Pooling=True)"
      ]
    },
    {
      "cell_type": "code",
      "execution_count": null,
      "metadata": {
        "colab": {
          "base_uri": "https://localhost:8080/",
          "height": 981
        },
        "id": "mb0bjVNkk7VD",
        "outputId": "e9d296cb-71f2-4edf-b568-ea17eb8b563c"
      },
      "outputs": [
        {
          "data": {
            "image/png": "[encoded data removed]",
            "text/plain": [
              "<Figure size 576x576 with 1 Axes>"
            ]
          },
          "metadata": {},
          "output_type": "display_data"
        },
        {
          "data": {
            "image/png": "[encoded data removed]",
            "text/plain": [
              "<Figure size 576x576 with 1 Axes>"
            ]
          },
          "metadata": {},
          "output_type": "display_data"
        }
      ],
      "source": [
        "r2.visualization()"
      ]
    },
    {
      "cell_type": "markdown",
      "metadata": {
        "id": "oRtVaZoInBaG"
      },
      "source": [
        "## MultiLayer GRU"
      ]
    },
    {
      "cell_type": "code",
      "execution_count": null,
      "metadata": {
        "id": "w6YhUj0DnESS"
      },
      "outputs": [],
      "source": [
        "r3 = RNN_Network(x_train,x_test,y_train,y_test)"
      ]
    },
    {
      "cell_type": "code",
      "execution_count": null,
      "metadata": {
        "colab": {
          "base_uri": "https://localhost:8080/"
        },
        "id": "yf3JMWwlnIBj",
        "outputId": "430d8ce5-bcb7-4e07-e326-f5a42cbfd2c4"
      },
      "outputs": [
        {
          "name": "stdout",
          "output_type": "stream",
          "text": [
            "Epoch 1/10\n",
            "5648/5648 [==============================] - 59s 9ms/step - loss: 0.4241 - acc: 0.8142 - val_loss: 0.3959 - val_acc: 0.8260\n",
            "Epoch 2/10\n",
            "5648/5648 [==============================] - 49s 9ms/step - loss: 0.3542 - acc: 0.8492 - val_loss: 0.3971 - val_acc: 0.8250\n",
            "Epoch 3/10\n",
            "5648/5648 [==============================] - 48s 9ms/step - loss: 0.3101 - acc: 0.8717 - val_loss: 0.4192 - val_acc: 0.8192\n",
            "Epoch 4/10\n",
            "5648/5648 [==============================] - 48s 8ms/step - loss: 0.2697 - acc: 0.8909 - val_loss: 0.4600 - val_acc: 0.8118\n",
            "Epoch 5/10\n",
            "5648/5648 [==============================] - 49s 9ms/step - loss: 0.2317 - acc: 0.9076 - val_loss: 0.4945 - val_acc: 0.8019\n",
            "Epoch 6/10\n",
            "5648/5648 [==============================] - 48s 9ms/step - loss: 0.1981 - acc: 0.9222 - val_loss: 0.5683 - val_acc: 0.7970\n",
            "Epoch 7/10\n",
            "5648/5648 [==============================] - 52s 9ms/step - loss: 0.1709 - acc: 0.9323 - val_loss: 0.6408 - val_acc: 0.7916\n",
            "Epoch 8/10\n",
            "5648/5648 [==============================] - 54s 9ms/step - loss: 0.1490 - acc: 0.9412 - val_loss: 0.7599 - val_acc: 0.7899\n",
            "Epoch 9/10\n",
            "5648/5648 [==============================] - 51s 9ms/step - loss: 0.1311 - acc: 0.9479 - val_loss: 0.8597 - val_acc: 0.7845\n",
            "Epoch 10/10\n",
            "5648/5648 [==============================] - 51s 9ms/step - loss: 0.1176 - acc: 0.9529 - val_loss: 0.9351 - val_acc: 0.7889\n"
          ]
        }
      ],
      "source": [
        "r3.Model_compiling_and_fitting(epochs=10, Multi_Layer_GRU=True, Dropout=True)"
      ]
    },
    {
      "cell_type": "markdown",
      "metadata": {
        "id": "uhxohcKVtyUn"
      },
      "source": [
        "## GlobalMax without Dense"
      ]
    },
    {
      "cell_type": "code",
      "execution_count": null,
      "metadata": {
        "id": "T0ITJfHHneWb"
      },
      "outputs": [],
      "source": [
        "r4 = RNN_Network(x_train,x_test,y_train,y_test)"
      ]
    },
    {
      "cell_type": "code",
      "execution_count": null,
      "metadata": {
        "colab": {
          "base_uri": "https://localhost:8080/"
        },
        "id": "wQyN7QULuj0E",
        "outputId": "7c515884-4f01-4eb3-dd0c-18b92fad1d07"
      },
      "outputs": [
        {
          "name": "stdout",
          "output_type": "stream",
          "text": [
            "Epoch 1/10\n",
            "5648/5648 [==============================] - 67s 12ms/step - loss: 0.4613 - acc: 0.7915 - val_loss: 0.4154 - val_acc: 0.8149\n",
            "Epoch 2/10\n",
            "5648/5648 [==============================] - 46s 8ms/step - loss: 0.3866 - acc: 0.8292 - val_loss: 0.4035 - val_acc: 0.8228\n",
            "Epoch 3/10\n",
            "5648/5648 [==============================] - 49s 9ms/step - loss: 0.3528 - acc: 0.8483 - val_loss: 0.4061 - val_acc: 0.8247\n",
            "Epoch 4/10\n",
            "5648/5648 [==============================] - 48s 9ms/step - loss: 0.3263 - acc: 0.8619 - val_loss: 0.4116 - val_acc: 0.8201\n",
            "Epoch 5/10\n",
            "5648/5648 [==============================] - 46s 8ms/step - loss: 0.3042 - acc: 0.8727 - val_loss: 0.4207 - val_acc: 0.8175\n",
            "Epoch 6/10\n",
            "5648/5648 [==============================] - 49s 9ms/step - loss: 0.2862 - acc: 0.8820 - val_loss: 0.4320 - val_acc: 0.8143\n",
            "Epoch 7/10\n",
            "5648/5648 [==============================] - 46s 8ms/step - loss: 0.2707 - acc: 0.8897 - val_loss: 0.4456 - val_acc: 0.8109\n",
            "Epoch 8/10\n",
            "5648/5648 [==============================] - 49s 9ms/step - loss: 0.2572 - acc: 0.8959 - val_loss: 0.4620 - val_acc: 0.8061\n",
            "Epoch 9/10\n",
            "5648/5648 [==============================] - 47s 8ms/step - loss: 0.2459 - acc: 0.9007 - val_loss: 0.4765 - val_acc: 0.8038\n",
            "Epoch 10/10\n",
            "5648/5648 [==============================] - 49s 9ms/step - loss: 0.2360 - acc: 0.9051 - val_loss: 0.4976 - val_acc: 0.7986\n"
          ]
        }
      ],
      "source": [
        "r4.Model_compiling_and_fitting(epochs=10, Global_Average_Pooling=True)"
      ]
    },
    {
      "cell_type": "markdown",
      "metadata": {
        "id": "YDrv8cA95NaZ"
      },
      "source": [
        "## Global Average pooling with droput\n",
        "##### so far this model can tested more"
      ]
    },
    {
      "cell_type": "code",
      "execution_count": null,
      "metadata": {
        "id": "QMx4jKlLutgM"
      },
      "outputs": [],
      "source": [
        "r5 = RNN_Network(x_train,x_test,y_train,y_test)"
      ]
    },
    {
      "cell_type": "code",
      "execution_count": null,
      "metadata": {
        "colab": {
          "base_uri": "https://localhost:8080/"
        },
        "id": "PngfWesux2Zk",
        "outputId": "70cc3311-5834-4d45-c31b-f01e98795cdf"
      },
      "outputs": [
        {
          "name": "stdout",
          "output_type": "stream",
          "text": [
            "Epoch 1/10\n",
            "5648/5648 [==============================] - 39s 7ms/step - loss: 0.5277 - acc: 0.7544 - val_loss: 0.4589 - val_acc: 0.7905\n",
            "Epoch 2/10\n",
            "5648/5648 [==============================] - 39s 7ms/step - loss: 0.4792 - acc: 0.7792 - val_loss: 0.4376 - val_acc: 0.8042\n",
            "Epoch 3/10\n",
            "5648/5648 [==============================] - 38s 7ms/step - loss: 0.4593 - acc: 0.7908 - val_loss: 0.4290 - val_acc: 0.8094\n",
            "Epoch 4/10\n",
            "5648/5648 [==============================] - 39s 7ms/step - loss: 0.4456 - acc: 0.7991 - val_loss: 0.4250 - val_acc: 0.8113\n",
            "Epoch 5/10\n",
            "5648/5648 [==============================] - 41s 7ms/step - loss: 0.4347 - acc: 0.8077 - val_loss: 0.4234 - val_acc: 0.8106\n",
            "Epoch 6/10\n",
            "5648/5648 [==============================] - 39s 7ms/step - loss: 0.4252 - acc: 0.8141 - val_loss: 0.4228 - val_acc: 0.8121\n",
            "Epoch 7/10\n",
            "5648/5648 [==============================] - 41s 7ms/step - loss: 0.4178 - acc: 0.8193 - val_loss: 0.4235 - val_acc: 0.8132\n",
            "Epoch 8/10\n",
            "5648/5648 [==============================] - 41s 7ms/step - loss: 0.4111 - acc: 0.8248 - val_loss: 0.4247 - val_acc: 0.8122\n",
            "Epoch 9/10\n",
            "5648/5648 [==============================] - 41s 7ms/step - loss: 0.4056 - acc: 0.8282 - val_loss: 0.4254 - val_acc: 0.8116\n",
            "Epoch 10/10\n",
            "5648/5648 [==============================] - 38s 7ms/step - loss: 0.4011 - acc: 0.8312 - val_loss: 0.4278 - val_acc: 0.8088\n"
          ]
        }
      ],
      "source": [
        "r5.Model_compiling_and_fitting(epochs=10, Global_Average_Pooling=True, Dropout = True)"
      ]
    },
    {
      "cell_type": "code",
      "execution_count": null,
      "metadata": {
        "colab": {
          "base_uri": "https://localhost:8080/",
          "height": 981
        },
        "id": "AqyrwQbYx_5c",
        "outputId": "a2aeb2eb-467e-4396-bce6-d4d14012c97d"
      },
      "outputs": [
        {
          "data": {
            "image/png": "[encoded data removed]",
            "text/plain": [
              "<Figure size 576x576 with 1 Axes>"
            ]
          },
          "metadata": {},
          "output_type": "display_data"
        },
        {
          "data": {
            "image/png": "[encoded data removed]",
            "text/plain": [
              "<Figure size 576x576 with 1 Axes>"
            ]
          },
          "metadata": {},
          "output_type": "display_data"
        }
      ],
      "source": [
        "r5.visualization()"
      ]
    },
    {
      "cell_type": "markdown",
      "metadata": {
        "id": "gGAf9Man6AvP"
      },
      "source": [
        "## Single GRU with Droput and without Droput"
      ]
    },
    {
      "cell_type": "code",
      "execution_count": null,
      "metadata": {
        "id": "CKhrwbbY6FmP"
      },
      "outputs": [],
      "source": [
        "r6 = RNN_Network(x_train,x_test,y_train,y_test)"
      ]
    },
    {
      "cell_type": "code",
      "execution_count": null,
      "metadata": {
        "colab": {
          "background_save": true
        },
        "id": "znmulSge6Klj"
      },
      "outputs": [],
      "source": [
        "r6.Model_compiling_and_fitting(epochs=10, Single_GRU=True, Dropout=True)"
      ]
    },
    {
      "cell_type": "markdown",
      "source": [
        "2022.02.02 \n",
        "### Single layers LSTM with and without droput"
      ],
      "metadata": {
        "id": "sYXjjvoL-ATa"
      }
    },
    {
      "cell_type": "code",
      "source": [
        "r7 = RNN_Network(x_train,x_test,y_train,y_test)"
      ],
      "metadata": {
        "id": "WEbQXzJo-KGO"
      },
      "execution_count": null,
      "outputs": []
    },
    {
      "cell_type": "code",
      "source": [
        "r7.Model_compiling_and_fitting(epochs=10, Single_Layer_LSTM=True, Dropout=True)"
      ],
      "metadata": {
        "colab": {
          "base_uri": "https://localhost:8080/"
        },
        "id": "kPoZgFSl-z6w",
        "outputId": "35fbdae7-6d06-42e4-f987-6e9b7b10aa75"
      },
      "execution_count": null,
      "outputs": [
        {
          "output_type": "stream",
          "name": "stdout",
          "text": [
            "Model: \"sequential_3\"\n",
            "_________________________________________________________________\n",
            " Layer (type)                Output Shape              Param #   \n",
            "=================================================================\n",
            " embedding_3 (Embedding)     (None, 50, 16)            800000    \n",
            "                                                                 \n",
            " lstm_3 (LSTM)               (None, 16)                2112      \n",
            "                                                                 \n",
            " dropout_3 (Dropout)         (None, 16)                0         \n",
            "                                                                 \n",
            " dense_3 (Dense)             (None, 1)                 17        \n",
            "                                                                 \n",
            "=================================================================\n",
            "Total params: 802,129\n",
            "Trainable params: 802,129\n",
            "Non-trainable params: 0\n",
            "_________________________________________________________________\n",
            "None\n",
            "Epoch 1/10\n",
            "5648/5648 [==============================] - 83s 14ms/step - loss: 0.4337 - acc: 0.8119 - val_loss: 0.3923 - val_acc: 0.8276\n",
            "Epoch 2/10\n",
            "5648/5648 [==============================] - 80s 14ms/step - loss: 0.3715 - acc: 0.8423 - val_loss: 0.3958 - val_acc: 0.8254\n",
            "Epoch 3/10\n",
            "5648/5648 [==============================] - 80s 14ms/step - loss: 0.3420 - acc: 0.8564 - val_loss: 0.4044 - val_acc: 0.8277\n",
            "Epoch 4/10\n",
            "5648/5648 [==============================] - 82s 15ms/step - loss: 0.3160 - acc: 0.8678 - val_loss: 0.4152 - val_acc: 0.8229\n",
            "Epoch 5/10\n",
            "5648/5648 [==============================] - 82s 15ms/step - loss: 0.2918 - acc: 0.8791 - val_loss: 0.4338 - val_acc: 0.8192\n",
            "Epoch 6/10\n",
            "5648/5648 [==============================] - 86s 15ms/step - loss: 0.2686 - acc: 0.8888 - val_loss: 0.4774 - val_acc: 0.8158\n",
            "Epoch 7/10\n",
            "5648/5648 [==============================] - 87s 15ms/step - loss: 0.2480 - acc: 0.8985 - val_loss: 0.4927 - val_acc: 0.8115\n",
            "Epoch 8/10\n",
            "5648/5648 [==============================] - 87s 15ms/step - loss: 0.2296 - acc: 0.9057 - val_loss: 0.5517 - val_acc: 0.8108\n",
            "Epoch 9/10\n",
            "5648/5648 [==============================] - 83s 15ms/step - loss: 0.2148 - acc: 0.9119 - val_loss: 0.5800 - val_acc: 0.8092\n",
            "Epoch 10/10\n",
            "5648/5648 [==============================] - 86s 15ms/step - loss: 0.2029 - acc: 0.9170 - val_loss: 0.6070 - val_acc: 0.8009\n"
          ]
        }
      ]
    },
    {
      "cell_type": "code",
      "source": [
        "r7.visualization()"
      ],
      "metadata": {
        "colab": {
          "base_uri": "https://localhost:8080/",
          "height": 981
        },
        "id": "-herzvIX_BKv",
        "outputId": "fbfd915f-b660-4015-cb70-16731882c8a9"
      },
      "execution_count": null,
      "outputs": [
        {
          "output_type": "display_data",
          "data": {
            "image/png": "[encoded data removed]",
            "text/plain": [
              "<Figure size 576x576 with 1 Axes>"
            ]
          },
          "metadata": {
            "needs_background": "light"
          }
        },
        {
          "output_type": "display_data",
          "data": {
            "image/png": "[encoded data removed]",
            "text/plain": [
              "<Figure size 576x576 with 1 Axes>"
            ]
          },
          "metadata": {
            "needs_background": "light"
          }
        }
      ]
    },
    {
      "cell_type": "markdown",
      "source": [
        "### Global Pooling"
      ],
      "metadata": {
        "id": "BNq7TvCLJ-wt"
      }
    },
    {
      "cell_type": "code",
      "source": [
        "r7 = RNN_Network(x_train,x_test,y_train,y_test)"
      ],
      "metadata": {
        "id": "j3VtH2AiKQKo"
      },
      "execution_count": null,
      "outputs": []
    },
    {
      "cell_type": "code",
      "source": [
        "r7.Model_compiling_and_fitting(epochs=10, Global_Average_Pooling=True, Dropout=True)"
      ],
      "metadata": {
        "colab": {
          "base_uri": "https://localhost:8080/"
        },
        "id": "WERHBTD5UTYx",
        "outputId": "4a3f288a-2245-40a0-e6e8-4000b95d6301"
      },
      "execution_count": null,
      "outputs": [
        {
          "output_type": "stream",
          "name": "stdout",
          "text": [
            "Model: \"sequential\"\n",
            "_________________________________________________________________\n",
            " Layer (type)                Output Shape              Param #   \n",
            "=================================================================\n",
            " embedding (Embedding)       (None, 50, 16)            800000    \n",
            "                                                                 \n",
            " global_average_pooling1d (G  (None, 16)               0         \n",
            " lobalAveragePooling1D)                                          \n",
            "                                                                 \n",
            " dropout (Dropout)           (None, 16)                0         \n",
            "                                                                 \n",
            " dense (Dense)               (None, 1)                 17        \n",
            "                                                                 \n",
            "=================================================================\n",
            "Total params: 800,017\n",
            "Trainable params: 800,017\n",
            "Non-trainable params: 0\n",
            "_________________________________________________________________\n",
            "None\n",
            "Epoch 1/10\n",
            "5648/5648 [==============================] - 29s 5ms/step - loss: 0.5220 - acc: 0.7531 - val_loss: 0.4416 - val_acc: 0.8004\n",
            "Epoch 2/10\n",
            "5648/5648 [==============================] - 21s 4ms/step - loss: 0.4311 - acc: 0.8085 - val_loss: 0.4155 - val_acc: 0.8171\n",
            "Epoch 3/10\n",
            "5648/5648 [==============================] - 21s 4ms/step - loss: 0.4109 - acc: 0.8201 - val_loss: 0.4089 - val_acc: 0.8234\n",
            "Epoch 4/10\n",
            "5648/5648 [==============================] - 21s 4ms/step - loss: 0.4001 - acc: 0.8263 - val_loss: 0.4060 - val_acc: 0.8236\n",
            "Epoch 5/10\n",
            "5648/5648 [==============================] - 22s 4ms/step - loss: 0.3927 - acc: 0.8300 - val_loss: 0.4054 - val_acc: 0.8260\n",
            "Epoch 6/10\n",
            "5648/5648 [==============================] - 21s 4ms/step - loss: 0.3880 - acc: 0.8333 - val_loss: 0.4059 - val_acc: 0.8260\n",
            "Epoch 7/10\n",
            "5648/5648 [==============================] - 21s 4ms/step - loss: 0.3840 - acc: 0.8356 - val_loss: 0.4070 - val_acc: 0.8267\n",
            "Epoch 8/10\n",
            "5648/5648 [==============================] - 22s 4ms/step - loss: 0.3795 - acc: 0.8371 - val_loss: 0.4108 - val_acc: 0.8269\n",
            "Epoch 9/10\n",
            "5648/5648 [==============================] - 21s 4ms/step - loss: 0.3770 - acc: 0.8390 - val_loss: 0.4092 - val_acc: 0.8264\n",
            "Epoch 10/10\n",
            "5648/5648 [==============================] - 21s 4ms/step - loss: 0.3749 - acc: 0.8402 - val_loss: 0.4124 - val_acc: 0.8265\n"
          ]
        }
      ]
    },
    {
      "cell_type": "code",
      "source": [
        "r7.visualization()"
      ],
      "metadata": {
        "colab": {
          "base_uri": "https://localhost:8080/",
          "height": 981
        },
        "id": "lQ8wYJ_ZUavd",
        "outputId": "a0c169f3-a0fc-4b41-ec05-4284bd3fb9f3"
      },
      "execution_count": null,
      "outputs": [
        {
          "output_type": "display_data",
          "data": {
            "image/png": "[encoded data removed]",
            "text/plain": [
              "<Figure size 576x576 with 1 Axes>"
            ]
          },
          "metadata": {
            "needs_background": "light"
          }
        },
        {
          "output_type": "display_data",
          "data": {
            "image/png": "[encoded data removed]",
            "text/plain": [
              "<Figure size 576x576 with 1 Axes>"
            ]
          },
          "metadata": {
            "needs_background": "light"
          }
        }
      ]
    },
    {
      "cell_type": "code",
      "source": [
        "r8 = RNN_Network(x_train,x_test,y_train,y_test)"
      ],
      "metadata": {
        "id": "D96AluxTVjYF"
      },
      "execution_count": null,
      "outputs": []
    },
    {
      "cell_type": "code",
      "source": [
        "r8.Model_compiling_and_fitting(epochs = 10, Global_Average_Pooling=True, Dropout=True, save_model=True)"
      ],
      "metadata": {
        "colab": {
          "base_uri": "https://localhost:8080/"
        },
        "id": "GdfkLrmLXZ4M",
        "outputId": "157a6ccc-5105-4c4b-a9af-c295409307bd"
      },
      "execution_count": null,
      "outputs": [
        {
          "output_type": "stream",
          "name": "stdout",
          "text": [
            "Model: \"sequential_1\"\n",
            "_________________________________________________________________\n",
            " Layer (type)                Output Shape              Param #   \n",
            "=================================================================\n",
            " embedding_1 (Embedding)     (None, 50, 16)            800000    \n",
            "                                                                 \n",
            " global_average_pooling1d_1   (None, 16)               0         \n",
            " (GlobalAveragePooling1D)                                        \n",
            "                                                                 \n",
            " dropout_1 (Dropout)         (None, 16)                0         \n",
            "                                                                 \n",
            " dense_1 (Dense)             (None, 1)                 17        \n",
            "                                                                 \n",
            "=================================================================\n",
            "Total params: 800,017\n",
            "Trainable params: 800,017\n",
            "Non-trainable params: 0\n",
            "_________________________________________________________________\n",
            "None\n",
            "Epoch 1/10\n",
            "5648/5648 [==============================] - 21s 4ms/step - loss: 0.5218 - acc: 0.7532 - val_loss: 0.4414 - val_acc: 0.8000\n",
            "Epoch 2/10\n",
            "5648/5648 [==============================] - 21s 4ms/step - loss: 0.4308 - acc: 0.8088 - val_loss: 0.4152 - val_acc: 0.8159\n",
            "Epoch 3/10\n",
            "5648/5648 [==============================] - 22s 4ms/step - loss: 0.4100 - acc: 0.8201 - val_loss: 0.4084 - val_acc: 0.8233\n",
            "Epoch 4/10\n",
            "5648/5648 [==============================] - 21s 4ms/step - loss: 0.3987 - acc: 0.8259 - val_loss: 0.4061 - val_acc: 0.8249\n",
            "Epoch 5/10\n",
            "5648/5648 [==============================] - 21s 4ms/step - loss: 0.3927 - acc: 0.8295 - val_loss: 0.4056 - val_acc: 0.8260\n",
            "Epoch 6/10\n",
            "5648/5648 [==============================] - 21s 4ms/step - loss: 0.3875 - acc: 0.8327 - val_loss: 0.4058 - val_acc: 0.8260\n",
            "Epoch 7/10\n",
            "5648/5648 [==============================] - 21s 4ms/step - loss: 0.3840 - acc: 0.8353 - val_loss: 0.4067 - val_acc: 0.8267\n",
            "Epoch 8/10\n",
            "5648/5648 [==============================] - 23s 4ms/step - loss: 0.3807 - acc: 0.8372 - val_loss: 0.4093 - val_acc: 0.8228\n",
            "Epoch 9/10\n",
            "5648/5648 [==============================] - 21s 4ms/step - loss: 0.3770 - acc: 0.8393 - val_loss: 0.4090 - val_acc: 0.8259\n",
            "Epoch 10/10\n",
            "5648/5648 [==============================] - 21s 4ms/step - loss: 0.3750 - acc: 0.8405 - val_loss: 0.4110 - val_acc: 0.8250\n"
          ]
        }
      ]
    },
    {
      "cell_type": "code",
      "source": [
        "r8.visualization()"
      ],
      "metadata": {
        "colab": {
          "base_uri": "https://localhost:8080/",
          "height": 981
        },
        "id": "M0W3_NFuXj2D",
        "outputId": "40f3e4c4-249f-4276-e905-4df146f06c15"
      },
      "execution_count": null,
      "outputs": [
        {
          "output_type": "display_data",
          "data": {
            "image/png": "[encoded data removed]",
            "text/plain": [
              "<Figure size 576x576 with 1 Axes>"
            ]
          },
          "metadata": {
            "needs_background": "light"
          }
        },
        {
          "output_type": "display_data",
          "data": {
            "image/png": "[encoded data removed]",
            "text/plain": [
              "<Figure size 576x576 with 1 Axes>"
            ]
          },
          "metadata": {
            "needs_background": "light"
          }
        }
      ]
    },
    {
      "cell_type": "code",
      "source": [
        ""
      ],
      "metadata": {
        "id": "nZ_3EKxEYfJ3"
      },
      "execution_count": null,
      "outputs": []
    }
  ],
  "metadata": {
    "colab": {
      "name": "Sentiment_Analysis.ipynb",
      "provenance": []
    },
    "kernelspec": {
      "display_name": "Python 3",
      "name": "python3"
    },
    "language_info": {
      "name": "python"
    }
  },
  "nbformat": 4,
  "nbformat_minor": 0
}