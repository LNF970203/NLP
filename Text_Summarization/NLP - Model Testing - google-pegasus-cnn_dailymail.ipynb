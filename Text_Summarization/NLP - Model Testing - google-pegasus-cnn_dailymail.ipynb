{
 "cells": [
  {
   "cell_type": "code",
   "execution_count": 1,
   "id": "c649c8ee",
   "metadata": {},
   "outputs": [],
   "source": [
    "from transformers import pipeline\n",
    "import spacy\n",
    "import en_core_web_sm\n",
    "import nltk\n",
    "from goose3 import Goose\n",
    "from transformers import AutoTokenizer, AutoModelForSeq2SeqLM\n",
    "from rouge import Rouge"
   ]
  },
  {
   "cell_type": "code",
   "execution_count": 2,
   "id": "5c70a1c5",
   "metadata": {},
   "outputs": [
    {
     "data": {
      "application/vnd.jupyter.widget-view+json": {
       "model_id": "292af786bd0241c89ea9b9d3ba685a67",
       "version_major": 2,
       "version_minor": 0
      },
      "text/plain": [
       "Downloading:   0%|          | 0.00/1.09k [00:00<?, ?B/s]"
      ]
     },
     "metadata": {},
     "output_type": "display_data"
    },
    {
     "data": {
      "application/vnd.jupyter.widget-view+json": {
       "model_id": "58c28a7d53cd43ceb02256dd576d0100",
       "version_major": 2,
       "version_minor": 0
      },
      "text/plain": [
       "Downloading:   0%|          | 0.00/2.12G [00:00<?, ?B/s]"
      ]
     },
     "metadata": {},
     "output_type": "display_data"
    },
    {
     "data": {
      "application/vnd.jupyter.widget-view+json": {
       "model_id": "1b7e3fa6b9ff4e20a8be697351b3b503",
       "version_major": 2,
       "version_minor": 0
      },
      "text/plain": [
       "Downloading:   0%|          | 0.00/88.0 [00:00<?, ?B/s]"
      ]
     },
     "metadata": {},
     "output_type": "display_data"
    },
    {
     "data": {
      "application/vnd.jupyter.widget-view+json": {
       "model_id": "f12c168605ed4158bb6fafb35481fcf1",
       "version_major": 2,
       "version_minor": 0
      },
      "text/plain": [
       "Downloading:   0%|          | 0.00/1.82M [00:00<?, ?B/s]"
      ]
     },
     "metadata": {},
     "output_type": "display_data"
    },
    {
     "data": {
      "application/vnd.jupyter.widget-view+json": {
       "model_id": "d0c696d4ef3e4ae0895691498380c7ed",
       "version_major": 2,
       "version_minor": 0
      },
      "text/plain": [
       "Downloading:   0%|          | 0.00/65.0 [00:00<?, ?B/s]"
      ]
     },
     "metadata": {},
     "output_type": "display_data"
    }
   ],
   "source": [
    "summarizor = pipeline('summarization', model = 'google/pegasus-cnn_dailymail')"
   ]
  },
  {
   "cell_type": "code",
   "execution_count": 3,
   "id": "1c8c9c83",
   "metadata": {},
   "outputs": [],
   "source": [
    "from transformers import AutoTokenizer, AutoModelForSeq2SeqLM\n",
    "\n",
    "tokenizer = AutoTokenizer.from_pretrained(\"google/pegasus-cnn_dailymail\")\n",
    "\n",
    "model = AutoModelForSeq2SeqLM.from_pretrained(\"google/pegasus-cnn_dailymail\")"
   ]
  },
  {
   "cell_type": "code",
   "execution_count": 4,
   "id": "bb0e63ea",
   "metadata": {},
   "outputs": [
    {
     "data": {
      "text/plain": [
       "1024"
      ]
     },
     "execution_count": 4,
     "metadata": {},
     "output_type": "execute_result"
    }
   ],
   "source": [
    "tokenizer.model_max_length"
   ]
  },
  {
   "cell_type": "code",
   "execution_count": 5,
   "id": "1bd8e3ea",
   "metadata": {},
   "outputs": [],
   "source": [
    "file = \"C:\\\\Lachin\\\\NLP Project\\\\Full podcast.txt\"\n",
    "with open(file,'r') as f:\n",
    "    original_text = f.readlines()\n",
    "original_text = ''.join(original_text)"
   ]
  },
  {
   "cell_type": "code",
   "execution_count": 6,
   "id": "636931fc",
   "metadata": {},
   "outputs": [],
   "source": [
    "file1 = \"C:\\\\Lachin\\\\NLP Project\\\\reference_summary.txt\"\n",
    "with open(file1,'r') as f1:\n",
    "    reference_summary = f1.readlines()\n",
    "reference_summary = ''.join(reference_summary)"
   ]
  },
  {
   "cell_type": "code",
   "execution_count": 7,
   "id": "69d9c602",
   "metadata": {},
   "outputs": [],
   "source": [
    "def summarizing_text(text, number_of_tokens = tokenizer.model_max_length, max_len=0, min_len=0, human_summary=reference_summary):\n",
    "    sentences = []\n",
    "    total_sentences = []\n",
    "    length = 0\n",
    "    original_sentences = nltk.tokenize.sent_tokenize(text)\n",
    "    for sent in original_sentences:\n",
    "        word_tokens = tokenizer(sent)\n",
    "        length += len(word_tokens['input_ids'])\n",
    "        if (length < number_of_tokens):\n",
    "            sentences.append(sent)\n",
    "        else:\n",
    "            total_sentences.append(sentences)\n",
    "            length = len(word_tokens['input_ids'])\n",
    "            sentences = []\n",
    "            sentences.append(sent)\n",
    "    \n",
    "    \n",
    "    #Summarizing the text now\n",
    "    system_summary = []\n",
    "    for i in range(len(total_sentences)):\n",
    "        if (i==0):\n",
    "            print(len(total_sentences))\n",
    "        print(i)\n",
    "        text1 = ' '.join(total_sentences[i])\n",
    "        if ((max_len==0) and (min_len==0)):\n",
    "            z = summarizor(text1, do_sample=False)\n",
    "            system_summary.append(z[0]['summary_text'])\n",
    "        elif((max_len >0) and (min_len > 0)):\n",
    "            z = summarizor(text1, max_length=max_len, min_length =min_len, do_sample=False)\n",
    "            system_summary.append(z[0]['summary_text'])\n",
    "        else:\n",
    "            print('Please check \"max_len\" and \"min_len\" parameters')\n",
    "    final_system_summary = \" \".join(system_summary)\n",
    "    final_summary_tokens = tokenizer(final_system_summary)\n",
    "    print('Number of tokens in system summary {}'.format(len(final_summary_tokens['input_ids'])))\n",
    "    human_summary_tokens = tokenizer(human_summary)\n",
    "    print('Number of tokens in human summary {}'.format(len(human_summary_tokens['input_ids'])))\n",
    "    \n",
    "    #Accuracy checking\n",
    "    r = Rouge()\n",
    "    results = r.get_scores(final_system_summary,human_summary)\n",
    "    print(results)\n",
    "    \n",
    "    \n",
    "    print(final_system_summary)"
   ]
  },
  {
   "cell_type": "code",
   "execution_count": 9,
   "id": "d8de8ba5",
   "metadata": {},
   "outputs": [
    {
     "name": "stdout",
     "output_type": "stream",
     "text": [
      "6\n",
      "0\n",
      "1\n",
      "2\n",
      "3\n",
      "4\n",
      "5\n",
      "Number of tokens in system summary 458\n",
      "Number of tokens in human summary 502\n",
      "[{'rouge-1': {'r': 0.43891402714932126, 'p': 0.5359116022099447, 'f': 0.48258705972612065}, 'rouge-2': {'r': 0.2623376623376623, 'p': 0.3258064516129032, 'f': 0.29064747707261535}, 'rouge-l': {'r': 0.4253393665158371, 'p': 0.5193370165745856, 'f': 0.4676616865917923}}]\n",
      "The most important part of starting a company is finding the right co-founder .<n>There are three main reasons you should have a co-founder .<n>Startups are an incredibly intense and taxing journey .<n>Apple, Facebook, Google, Microsoft, they all had co-founders when they started . The best single founders are also able to run a great background search for co-founders .<n>The single most important thing to know about someone before you start a company is how do they handle stress .<n>A great co-founder should be able to support you through those and help you through those . It's really important to talk with someone, even if you know them very well, about why they want to do a startup .<n>It's not a perfect predictor, because people's goals and ambitions for a startup change over time .<n>It's obviously really important to have a co-founder who has the right sort of skills to help you grow the company . The best time to find a co-founder is when you're not necessarily looking for a co-founder to start a company with right now .<n>If you're in school, look around, see who's in your class, who's in school, and identify people that you think would be cool to work on a project .<n>Being in school or college is a really ideal time for this because you're surrounded by lots of people who usually have a decent chunk of spare time . How do you start finding co-founders?<n>Ask people you know to start a company with you .<n>Make a real effort to go out and meet people that have similar interests to you .<n>Once you found a potential co-founder, how do you test out and know for sure that you both want to start a company together before making the final commitment? At some point, you have to make the leap and hope that it will work out .<n>But one way to de-risk it is to allocate a chunk of time where you agreed to kind of work together .<n>And make them 50/50 equity partner so you can keep them as motivated and get as much out of them as possible .\n",
      "Wall time: 3min 13s\n"
     ]
    }
   ],
   "source": [
    "%%time\n",
    "summarizing_text(original_text)"
   ]
  },
  {
   "cell_type": "code",
   "execution_count": 10,
   "id": "7d59fa97",
   "metadata": {},
   "outputs": [
    {
     "name": "stdout",
     "output_type": "stream",
     "text": [
      "14\n",
      "0\n",
      "1\n",
      "2\n",
      "3\n",
      "4\n",
      "5\n",
      "6\n",
      "7\n",
      "8\n",
      "9\n",
      "10\n",
      "11\n",
      "12\n",
      "13\n",
      "Number of tokens in system summary 1011\n",
      "Number of tokens in human summary 502\n",
      "[{'rouge-1': {'r': 0.5610859728506787, 'p': 0.38509316770186336, 'f': 0.456721910458438}, 'rouge-2': {'r': 0.4051948051948052, 'p': 0.23853211009174313, 'f': 0.3002887345074344}, 'rouge-l': {'r': 0.5520361990950227, 'p': 0.37888198757763975, 'f': 0.44935542795383404}}]\n",
      "Find the right co-founder is arguably the most important part of starting a company .<n> productivity, you can get a lot more work done if you have someone to divide the work up with .<n>The second reason is moral support. Startups are an incredibly intense and taxing journey . You can't be as open or honest with them about the company as you can be with a peer .<n>Apple, Facebook, Google, Microsoft, they all had co-founders when they started .<n>So it's always important to remember that when you're starting a company, and wondering whether you should have a co-founder or not . The best single founders are also able to run a great background search for co-founders .<n>Drew Houston applied Y Combinator way, way back now, in 2007 .<n>He had a really solid idea for building Dropbox, because he'd already felt the pain of losing his own files . Most important thing to know about someone before you start a company with them is how do they handle stress .<n>You don't want to start a company with someone that you don't know particularly well .<n>And are they someone that's going to help you want to stick around when things are tough? The best people to start companies with are always people that you've got some sort of personal experiences .<n>Understand the goals and values someone has for starting a company or wanting to do a startup .<n>It's not a perfect predictor, because people's goals and ambitions for a startup change over time . It's obviously really important to have a co-founder who has the right sort of skills to help you grow the company .<n>More important than anything is just working with someone that you like working with and you trust . Don't go too much into the details of how well do their skills map onto this specific idea you're working on right now .<n>What does matter is that they're willing to learn what they need to learn .<n>The best time to find a co-founder are when you're not necessarily looking for a co-founder to start a company with right now . If you're in school, look around, identify people that you think would be cool to work on a project .<n>This project doesn't have to be a takeover the world idea of a company, just somebody you find interesting .<n>Being in school or college is a really ideal time for this because you're surrounded by lots of people who usually have a decent chunk of spare time . The kind of person who is interested in working on evening and weekend projects is the kind of person that's likely to make a great co-founder .<n>People can be reluctant to just ask people they know to start a company with them .<n>It's not the right optimization for starting a company, you have to make the ask . Make a list of the people that you know, you're closest to that you think would be great co-founders .<n>Ask them if they'll start a company with you and be your co-founder .<n>If they say no, ask them who'd they try to recruit . Once you found a potential co-founder, how do you test out and know for sure that you both want to start a company together before making the final commitment?<n>One way to de-risk it is to allocate a chunk of time where you agreed to kind of work together.<n>Do that together, and agree that at the end of the time that you've set aside, that you both have an honest conversation, decide, \"Do we both enjoy working together on this?\" The more hours you can accumulate of working together on the idea, the better sense you'll have if you want to start company or not .<n>Your default equity allocation should really be 50/50 .<n>There is not really too much reason to deviate from a 50/50 equity split early on . If you have a great potential co-founder, make them a 50/50 equity partner .<n>The title itself goes early on in the startup when it's just two or three co-founders .<n>One exception to that might be, if you need to be doing sales, it usually might be good if the CEO is a person . At Y Combinator, co-founder friction is a common source of problems .<n>Be honest with yourself, if you think it's really important to you to be the CEO, and you both feel that way, you're not good co-founders for each other .<n>You ideally want to start a company with someone who doesn't care about that stuff if you do, or you're both indifferent to it .<n> Vesting means that the shares in the company, we don't all get them at once .\n",
      "Wall time: 6min 8s\n"
     ]
    }
   ],
   "source": [
    "%%time\n",
    "summarizing_text(original_text, number_of_tokens=512)"
   ]
  },
  {
   "cell_type": "code",
   "execution_count": 11,
   "id": "e917b1b9",
   "metadata": {},
   "outputs": [
    {
     "name": "stdout",
     "output_type": "stream",
     "text": [
      "14\n",
      "0\n",
      "1\n",
      "2\n",
      "3\n",
      "4\n",
      "5\n",
      "6\n",
      "7\n",
      "8\n",
      "9\n",
      "10\n",
      "11\n",
      "12\n",
      "13\n",
      "Number of tokens in system summary 672\n",
      "Number of tokens in human summary 502\n",
      "[{'rouge-1': {'r': 0.48868778280542985, 'p': 0.4444444444444444, 'f': 0.46551723639055065}, 'rouge-2': {'r': 0.33766233766233766, 'p': 0.28322440087145967, 'f': 0.30805686707635166}, 'rouge-l': {'r': 0.48868778280542985, 'p': 0.4444444444444444, 'f': 0.46551723639055065}}]\n",
      "Find the right co-founder is arguably the most important part of starting a company .<n> productivity, you can get a lot more work done if you have someone to divide the work up with .<n>The second reason is moral support You can't be as open or honest with them about the company as you can be with a peer .<n>Apple, Facebook, Google, Microsoft, they all had co-founders when they started .<n>In those days, Y Combinator has funded single founders, and we have done so successfully .<n>The best single founders are also able to run a great background search for co-founders .<n>If the opportunity arises, bring on a great co-founder Most important thing to know about someone before you start a company with them is how do they handle stress .<n>A great co-founder should be able to support you through those and help you through those .<n>You don't The best people to start companies with are always people that you've got some sort of personal experiences .<n>It's really important to talk with someone, even if you know them very well, about why they want to do a It's obviously really important to have a co-founder who has the right sort of skills to help you grow the company .<n>More important than anything is just working with someone that you like working with and you trust .<n> Don't go too much into the details of how well do their skills map onto this specific idea you're working on right now .<n>What does matter is that they're willing to learn what they need to learn . If you're in school, look around, identify people that you think would be cool to work on a project .<n>This project doesn't have to be a takeover the world idea of a company, just somebody you find interesting Don't just want to be around people who might be co-founders .<n>The kind of person who is interested in working on evening and weekend projects is the kind of person that's likely to make a great co-founder Make a list of the people that you know, you're closest to that you think would be great co-founders .<n>Then ask them if they'll start a company with you and be your co-founder .<n> Once you found a potential co-founder, how do you test out and know for sure that you both want to start a company together before making the final commitment?<n>One way to de-risk it is to allocate a chunk of time The more hours you can accumulate of working together on the idea, the better sense you'll have if you want to start company or not .<n>Your default equity allocation should really be 50/50 .<n>There is not really too much If you have a great potential co-founder, make them a 50/50 equity partner .<n>The title itself goes early on in the startup when it's just two or three co-founders .<n>One exception to that might be At Y Combinator, co-founder friction is a common source of problems .<n>Be honest with yourself, if you think it's important to you to be the CEO, you're not good co-founders for each other \n",
      "Wall time: 3min 42s\n"
     ]
    }
   ],
   "source": [
    "%%time\n",
    "summarizing_text(original_text, number_of_tokens=512, max_len=50, min_len=25)"
   ]
  },
  {
   "cell_type": "code",
   "execution_count": null,
   "id": "104e69d5",
   "metadata": {},
   "outputs": [],
   "source": []
  }
 ],
 "metadata": {
  "kernelspec": {
   "display_name": "Python 3",
   "language": "python",
   "name": "python3"
  },
  "language_info": {
   "codemirror_mode": {
    "name": "ipython",
    "version": 3
   },
   "file_extension": ".py",
   "mimetype": "text/x-python",
   "name": "python",
   "nbconvert_exporter": "python",
   "pygments_lexer": "ipython3",
   "version": "3.8.8"
  }
 },
 "nbformat": 4,
 "nbformat_minor": 5
}
